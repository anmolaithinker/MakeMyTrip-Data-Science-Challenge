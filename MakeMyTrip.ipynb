{
  "nbformat": 4,
  "nbformat_minor": 0,
  "metadata": {
    "colab": {
      "name": "MakeMyTrip.ipynb",
      "version": "0.3.2",
      "views": {},
      "default_view": {},
      "provenance": []
    },
    "kernelspec": {
      "name": "python2",
      "display_name": "Python 2"
    },
    "accelerator": "GPU"
  },
  "cells": [
    {
      "metadata": {
        "id": "FU4EO4jXJpu_",
        "colab_type": "code",
        "colab": {
          "autoexec": {
            "startup": false,
            "wait_interval": 0
          },
          "base_uri": "https://localhost:8080/",
          "height": 93
        },
        "outputId": "56260e26-0a4b-4292-d4d8-ba3fe80f15cf",
        "executionInfo": {
          "status": "ok",
          "timestamp": 1526752297761,
          "user_tz": -330,
          "elapsed": 2541,
          "user": {
            "displayName": "anmol dua",
            "photoUrl": "//lh5.googleusercontent.com/-HF-joOMdcg4/AAAAAAAAAAI/AAAAAAAAAlg/kbdvpsLISZY/s50-c-k-no/photo.jpg",
            "userId": "112678859369174631221"
          }
        }
      },
      "cell_type": "code",
      "source": [
        "from google.colab import files  \n",
        "import zipfile\n",
        "\n",
        "# Importing Modules\n",
        "import numpy as np\n",
        "import pandas as pd\n",
        "import io\n",
        "import os\n",
        "import re\n",
        "from keras.preprocessing import sequence\n",
        "from keras.models import Sequential\n",
        "import numpy as np\n",
        "from keras.layers import Flatten,Masking\n",
        "from keras.layers.recurrent import LSTM\n",
        "from keras.layers.core import Activation\n",
        "from keras.layers.wrappers import TimeDistributed \n",
        "from keras.preprocessing.sequence import pad_sequences\n",
        "from keras.layers.embeddings import Embedding\n",
        "from sklearn.cross_validation import train_test_split\n",
        "from keras.layers import Merge ,  Bidirectional , Dense\n",
        "from keras.backend import tf\n",
        "from sklearn.metrics import confusion_matrix, accuracy_score\n",
        "from sklearn import preprocessing\n",
        "from sklearn.model_selection import train_test_split\n",
        "from xgboost import XGBClassifier\n",
        "from sklearn.metrics import confusion_matrix\n",
        "from sklearn.svm import SVC\n",
        "from sklearn.linear_model import LogisticRegression\n",
        "from sklearn.naive_bayes import GaussianNB\n",
        "\n",
        "\n",
        "\n",
        "\n",
        "class GoogleColabHelper():\n",
        "\n",
        "  def __init__(self):\n",
        "    print 'Initializing Google Helper : '\n",
        "    print 'Helper Functions That you can use : '\n",
        "    print '---------------------------------------------------------------------'\n",
        "    print 'To Upload Files from local system to colab : - UploadFilesFromLocal()'\n",
        "    print '---------------------------------------------------------------------'\n",
        "    print 'To Download Files                          : - downloadFile(path)'\n",
        "    print '---------------------------------------------------------------------'\n",
        "    print 'Getting Data From URL                      : - getDataFromUrl(url)'\n",
        "    print '---------------------------------------------------------------------'\n",
        "    print 'Unzip                                      : - Unzip(path , directory)'\n",
        "    print '---------------------------------------------------------------------'\n",
        "    print 'Download and Install Glove                 : - DownAndInstallGlove(directory)'\n",
        "    print '---------------------------------------------------------------------'\n",
        "\n",
        "\n",
        "  ## Uploading files from Local  \n",
        "  def UploadFilesFromLocal(self):\n",
        "    global files\n",
        "    uploaded = files.upload()\n",
        "    for fn in uploaded.keys():\n",
        "      print('User uploaded file \"{name}\" with length {length} bytes'.format(\n",
        "      name=fn, length=len(uploaded[fn])))\n",
        "    \n",
        "  ## Downloading the file  \n",
        "  def downloadFile(self,path):\n",
        "    global files\n",
        "    files.download(path)\n",
        "  \n",
        "  ## Getting data from URL\n",
        "  def getDataFromUrl(self , url):\n",
        "    print \"Getting Data From Url\"\n",
        "    os.system('wget ' + str(url))\n",
        "    print \"Done !!\"\n",
        "    os.system('ls')\n",
        "  \n",
        "  ## Unzipping the file\n",
        "  def Unzip(self , path , directory):\n",
        "    zip_ref = zipfile.ZipFile(path, 'r')\n",
        "    zip_ref.extractall(directory)\n",
        "    zip_ref.close()  \n",
        "    print('Done!!')\n",
        "    os.system('ls')\n",
        "    \n",
        "  ## Download and Install Glove  \n",
        "  def DownAndInstallGlove(self , directory):\n",
        "    curr = !ls\n",
        "    print(\"Current Directory : \\n\" + str(curr))\n",
        "    print(\"---------------------------Downloading : \")\n",
        "    !wget = 'http://nlp.stanford.edu/data/glove.6B.zip'\n",
        "    print(\"---------------------------Extracting : \")\n",
        "    zip_ref = zipfile.ZipFile('./glove.6B.zip', 'r')\n",
        "    zip_ref.extractall(directory)\n",
        "    zip_ref.close()\n",
        "    print \"Done !!!\"\n",
        "    os.system('ls')\n",
        "    \n",
        "    \n",
        "    \n",
        "#################################### Neural Network ####################################################    \n",
        "    \n",
        "class NN:\n",
        "    def __init__(self):\n",
        "      print 'Model Initialized :)' \n",
        "      self.model = Sequential()\n",
        "\n",
        "    #input_dim: This is the size of the vocabulary in the text data. For example, if your data is integer encoded to values between 0-10, then the size of the vocabulary would be 11 words.\n",
        "    #output_dim: This is the size of the vector space in which words will be embedded. It defines the size of the output vectors from this layer for each word. For example, it could be 32 or 100 or even larger. Test different values for your problem.\n",
        "    #input_length: This is the length of input sequences, as you would define for any input layer of a Keras model. For example, if all of your input documents are comprised of 1000 words, this would be 1000.\n",
        "    def EmbeddingLayer(self,input_dim,emb_dim,input_len = None):\n",
        "        print('Input Dimension : ' + str(input_dim))\n",
        "        print('Embedding Dimension : ' + str(emb_dim))\n",
        "        print('Input Length : ' + str(input_len))\n",
        "        self.model.add(Embedding(input_dim,emb_dim,input_length=input_len))\n",
        "        print('Embedd Success')\n",
        "        \n",
        "    def Conv1D(self,n_filters,kernel,padding = 'valid'):\n",
        "      self.model.add(Convolution1D(n_filters,kernel,padding = padding))\n",
        "        \n",
        "    # Flattening\n",
        "    def Flatten(self):\n",
        "      self.model.add(Flatten())\n",
        "        \n",
        "    # Input Layer\n",
        "    def InputLayer(self,input_dim,output,activation):\n",
        "      self.model.add(Dense(output, input_dim=input_dim,activation=activation,kernel_initializer='normal'))\n",
        "      \n",
        "      \n",
        "    # Hidden Layer    \n",
        "    def HiddenLayer(self,output,activation):\n",
        "        self.model.add(Dense(output,activation=activation,kernel_initializer='normal'))\n",
        "                    \n",
        "    # Output Layer                   \n",
        "    def Output(self,output,activation):\n",
        "        self.model.add(Dense(output,activation=activation,kernel_initializer='normal'))\n",
        "    \n",
        "    def Compile(self,loss,opt,metr):\n",
        "        self.model.compile(loss = loss , optimizer = opt , metrics = [metr]) \n",
        "        print(\"Successfully Compiled\")\n",
        "                        \n",
        "    def modelSummary(self):\n",
        "        print(\"Model Summary \\n\")\n",
        "        print(self.model.summary())   \n",
        "        \n",
        "    def FitTrain(self , x_train , y_train , batch_size , epochs):\n",
        "        self.model.fit(x_train, y_train,\n",
        "          batch_size=batch_size,\n",
        "          epochs=epochs)\n",
        "        \n",
        "    def Predictions(self,x_test):\n",
        "        return self.model.predict(x_test)\n",
        "    \n",
        "    def LSTM(self,output,return_sequences = False , drop_out = None):\n",
        "        self.model.add(LSTM(output ,return_sequences = return_sequences , dropout = drop_out))\n",
        "        \n",
        "    def Tokenizer(self , max_features ,data,split = ' '):\n",
        "        self.tokenizer = Tokenizer(num_words=max_features, split=split)\n",
        "        self.tokenizer.fit_on_texts(data)\n",
        "    \n",
        "    def PadSequences(self,data):\n",
        "        X = self.tokenizer.texts_to_sequences(data)\n",
        "        #print (\"Pad Seq. X : \" + str(X))\n",
        "        X = pad_sequences(X)\n",
        "        return X    \n",
        "      \n",
        "\n",
        "########################## Machine Learning ###########################################      \n",
        "      \n",
        "def is_categorical(array_like):\n",
        "  return array_like.dtype.name == 'object'  \n",
        "\n",
        "class MachineLearning():\n",
        "  \n",
        "  def __init__(self,dataset):\n",
        "    self.dataset = dataset\n",
        "    print ('Functions : ')\n",
        "    print '----------------------------------------------------'\n",
        "    print 'For taking the updated dataset        : getDataSet()'\n",
        "    print '----------------------------------------------------'\n",
        "    print 'For Checking Null Percentage          : checkCounts()'\n",
        "    print '----------------------------------------------------'\n",
        "    print 'For checking Null Values              : checkNull()'\n",
        "    print '----------------------------------------------------'\n",
        "    print 'For Getting Out Unique Values         : uniqueValues(column)'\n",
        "    print '----------------------------------------------------'\n",
        "    print 'For drawing bargraph distribution     : drawDistribution(column)'\n",
        "    print '----------------------------------------------------'\n",
        "    print 'Label Encoding                        : LabelEncoder(X)'\n",
        "    print '----------------------------------------------------'\n",
        "    print 'Filling Null Values without Imputer   : FillNA(cols , filling_data)'\n",
        "    print '----------------------------------------------------'\n",
        "    print 'Filling Null Values with Imputer      : FillNAImputer(strategy , X)'\n",
        "    print '----------------------------------------------------'\n",
        "    print 'Train and Test Splitting              : traintestSplit(X , y)'\n",
        "    print '----------------------------------------------------'\n",
        "    print 'XGBoost                               : XGBoost(X_train , y_train)'\n",
        "    print '----------------------------------------------------'\n",
        "    print 'SVM                                   : SVM(X_train , y_train)'\n",
        "    print '----------------------------------------------------'\n",
        "    print 'GaussianNB                            : GaussianNB(X_train,y_train)'\n",
        "    print '----------------------------------------------------'\n",
        "    print 'CheckAccuracy                         : CheckAccuracy(X_test , y_test)'\n",
        "    print '----------------------------------------------------'\n",
        "    print 'ConfusianMatrix                       : ConfusianMatrix(y_test , y_pred)'\n",
        "    \n",
        "    \n",
        "  \n",
        "  def getDataSet(self):\n",
        "    return self.dataset\n",
        "  \n",
        "  def checkCounts(self): \n",
        "    for i in self.dataset.columns:\n",
        "      if(is_categorical(self.dataset[i])):   \n",
        "        print 'Info of Column : ' + str(i)\n",
        "        counts_without_null = self.dataset[i].value_counts().sum()\n",
        "        null_counts = self.dataset[i].isnull().sum()\n",
        "        print 'Counts Without Null : '\n",
        "        print self.dataset[i].value_counts()\n",
        "        print 'Null Counts  : '\n",
        "        print null_counts\n",
        "        print 'Null Percentage : ' + str(float((float(null_counts)/float(null_counts + counts_without_null)) * 100))\n",
        "        print '------------------------------------------------------------'\n",
        "      \n",
        "  \n",
        "  \n",
        "  def checkNull(self):\n",
        "    print self.dataset.isnull().sum()\n",
        "    \n",
        "    \n",
        "  def uniqueValues(self , cols):\n",
        "    print 'Unique Values of Column ' + str(cols) + ' :'\n",
        "    print set(self.dataset[cols].values)\n",
        "    print '-------------------------------------------'\n",
        "    \n",
        "    \n",
        "  def drawDistribution(self , cols):\n",
        "    print 'Drawing Distribution of Column ' + str(cols) + ' :'\n",
        "    print  self.dataset[cols].value_counts().plot.bar()\n",
        "    print '---------------------------------------------'\n",
        "    \n",
        "  def LabelEncoder(self , X):\n",
        "    print 'Label Encoding Starts :'\n",
        "    le = preprocessing.LabelEncoder()\n",
        "    tranformed_x = le.fit_transform(X)\n",
        "    print 'Classes : '\n",
        "    print le.classes_\n",
        "    print '---------------------------------------------'\n",
        "    return tranformed_x\n",
        "   \n",
        "  \n",
        "  def FillNA(self , cols , filling_data):\n",
        "    self.dataset[cols] = self.dataset[cols].fillna(filling_data)\n",
        "    print 'Done !!'\n",
        "  \n",
        "  def FillNAImputer(self , strategy , X):\n",
        "    imputer = preprocessing.Imputer(strategy = strategy)\n",
        "    X = imputer.fit_transform(X)\n",
        "    print 'Done !'\n",
        "    return X   \n",
        "  \n",
        "  \n",
        "  def traintestSplit(self,X,y,test_size = 0.2 ,rs = 0):\n",
        "    print 'Test Size : ' + str(test_size) + ' Random State : ' + str(rs)\n",
        "    X_train, X_test, y_train, y_test = train_test_split(X, y, test_size = 0.2, random_state = 0)\n",
        "    print 'Done!!'\n",
        "    return (X_train , X_test , y_train , y_test)\n",
        "  \n",
        "  \n",
        "  def XGBoost(self , X_train , y_train , max_depth = 3 , n_estimators = 100):\n",
        "    classifier = XGBClassifier(max_depth = max_depth , n_estimators = n_estimators)\n",
        "    classifier.fit(X_train,y_train)\n",
        "    self.classifier = classifier\n",
        "    print 'Done!!'\n",
        "    return classifier\n",
        "  \n",
        "  def SVM(self,X_train,y_train,kernel,rs):\n",
        "    self.classifier = SVC(kernel = kernel ,random_state = rs)\n",
        "    self.classifier.fit(X_train,y_train)\n",
        "    print 'Done !!'\n",
        "    return self.classifier        \n",
        "        \n",
        "  def GaussianNB(self,X_train,y_train):\n",
        "    self.classifier = GaussianNB()\n",
        "    self.classifier.fit(X_train,y_train)\n",
        "    print 'Done !!'\n",
        "    return self.classifier\n",
        "  \n",
        "  def ConfusionMatrix(self,y_test,y_pred):\n",
        "    cm = confusion_matrix(y_test, y_pred)\n",
        "    print (\"Confusion Matrix : \\n\" + str(cm))\n",
        "    total = cm[0][0]+cm[0][1]+cm[1][0]+cm[1][1]\n",
        "    accurate = cm[0][0] + cm[1][1]\n",
        "    print (\"Accuracy : \" + str(int(float(accurate/float(total))*100)))  \n",
        "  \n",
        "  \n",
        "  def CheckAccuracy(self , X_test , y_test):\n",
        "    y_pred = self.classifier.predict(X_test)\n",
        "    cm = confusion_matrix(y_test, y_pred)\n",
        "    print cm\n",
        "    print 'Accuracy : '\n",
        "    correct = cm[0][0] + cm[1][1]\n",
        "    total = cm[0][0] + cm[1][1] + cm[0][1] + cm[1][0]\n",
        "    print str(float((float(correct) / float(total)) * 100))\n",
        "    print '--------------------------------------------------' \n",
        "    return y_pred\n",
        "  \n",
        "  \n",
        "  def NeuralNetwork(self , X_Train , y_train ,X_Test,y_test, batch_size ,  epochs):\n",
        "    n = NN()\n",
        "    n.InputLayer(15 , 10 , 'relu')\n",
        "    n.HiddenLayer(5 , 'relu')\n",
        "    n.Output(1 , 'sigmoid')\n",
        "    n.Compile('binary_crossentropy' , 'adam' , 'accuracy')\n",
        "    n.modelSummary()\n",
        "    print 'Batch Size : ' + str(batch_size) + ' Epochs : ' + str(epochs)\n",
        "    n.FitTrain(X_train,y_train,batch_size,epochs)\n",
        "    y_pred = n.Predictions(X_Test) > 0.5\n",
        "    self.ConfusionMatrix(y_test , y_pred)\n",
        "    return (n,y_pred)      "
      ],
      "execution_count": 1,
      "outputs": [
        {
          "output_type": "stream",
          "text": [
            "Using TensorFlow backend.\n",
            "/usr/local/lib/python2.7/dist-packages/sklearn/cross_validation.py:41: DeprecationWarning: This module was deprecated in version 0.18 in favor of the model_selection module into which all the refactored classes and functions are moved. Also note that the interface of the new CV iterators are different from that of this module. This module will be removed in 0.20.\n",
            "  \"This module will be removed in 0.20.\", DeprecationWarning)\n"
          ],
          "name": "stderr"
        }
      ]
    },
    {
      "metadata": {
        "id": "6l6AjUW8JrtR",
        "colab_type": "code",
        "colab": {
          "autoexec": {
            "startup": false,
            "wait_interval": 0
          },
          "base_uri": "https://localhost:8080/",
          "height": 238
        },
        "outputId": "9a68a53f-a572-4e1f-f464-1b3b86d868c0",
        "executionInfo": {
          "status": "ok",
          "timestamp": 1526752305184,
          "user_tz": -330,
          "elapsed": 1124,
          "user": {
            "displayName": "anmol dua",
            "photoUrl": "//lh5.googleusercontent.com/-HF-joOMdcg4/AAAAAAAAAAI/AAAAAAAAAlg/kbdvpsLISZY/s50-c-k-no/photo.jpg",
            "userId": "112678859369174631221"
          }
        }
      },
      "cell_type": "code",
      "source": [
        "helper = GoogleColabHelper()"
      ],
      "execution_count": 2,
      "outputs": [
        {
          "output_type": "stream",
          "text": [
            "Initializing Google Helper : \n",
            "Helper Functions That you can use : \n",
            "---------------------------------------------------------------------\n",
            "To Upload Files from local system to colab : - UploadFilesFromLocal()\n",
            "---------------------------------------------------------------------\n",
            "To Download Files                          : - downloadFile(path)\n",
            "---------------------------------------------------------------------\n",
            "Getting Data From URL                      : - getDataFromUrl(url)\n",
            "---------------------------------------------------------------------\n",
            "Unzip                                      : - Unzip(path , directory)\n",
            "---------------------------------------------------------------------\n",
            "Download and Install Glove                 : - DownAndInstallGlove(directory)\n",
            "---------------------------------------------------------------------\n"
          ],
          "name": "stdout"
        }
      ]
    },
    {
      "metadata": {
        "id": "QrGhiFfYJziP",
        "colab_type": "code",
        "colab": {
          "autoexec": {
            "startup": false,
            "wait_interval": 0
          },
          "base_uri": "https://localhost:8080/",
          "height": 51
        },
        "outputId": "3ea2a0ae-48d7-4bfc-d76b-ef5b82afa991",
        "executionInfo": {
          "status": "ok",
          "timestamp": 1526752310102,
          "user_tz": -330,
          "elapsed": 3821,
          "user": {
            "displayName": "anmol dua",
            "photoUrl": "//lh5.googleusercontent.com/-HF-joOMdcg4/AAAAAAAAAAI/AAAAAAAAAlg/kbdvpsLISZY/s50-c-k-no/photo.jpg",
            "userId": "112678859369174631221"
          }
        }
      },
      "cell_type": "code",
      "source": [
        "helper.getDataFromUrl('http://hck.re/64FQ44')"
      ],
      "execution_count": 3,
      "outputs": [
        {
          "output_type": "stream",
          "text": [
            "Getting Data From Url\n",
            "Done !!\n"
          ],
          "name": "stdout"
        }
      ]
    },
    {
      "metadata": {
        "id": "x3bhBm1sJ9E9",
        "colab_type": "code",
        "colab": {
          "autoexec": {
            "startup": false,
            "wait_interval": 0
          },
          "base_uri": "https://localhost:8080/",
          "height": 34
        },
        "outputId": "4475cf5b-dddc-478d-9823-c8f353c03231",
        "executionInfo": {
          "status": "ok",
          "timestamp": 1526752331757,
          "user_tz": -330,
          "elapsed": 2479,
          "user": {
            "displayName": "anmol dua",
            "photoUrl": "//lh5.googleusercontent.com/-HF-joOMdcg4/AAAAAAAAAAI/AAAAAAAAAlg/kbdvpsLISZY/s50-c-k-no/photo.jpg",
            "userId": "112678859369174631221"
          }
        }
      },
      "cell_type": "code",
      "source": [
        "helper.Unzip('64FQ44' , './')"
      ],
      "execution_count": 5,
      "outputs": [
        {
          "output_type": "stream",
          "text": [
            "Done!!\n"
          ],
          "name": "stdout"
        }
      ]
    },
    {
      "metadata": {
        "id": "QOJ_SdLoKZBd",
        "colab_type": "code",
        "colab": {
          "autoexec": {
            "startup": false,
            "wait_interval": 0
          }
        }
      },
      "cell_type": "code",
      "source": [
        "import pandas as pd\n",
        "import numpy as np"
      ],
      "execution_count": 0,
      "outputs": []
    },
    {
      "metadata": {
        "id": "KPaG-onChHOP",
        "colab_type": "code",
        "colab": {
          "autoexec": {
            "startup": false,
            "wait_interval": 0
          },
          "base_uri": "https://localhost:8080/",
          "height": 204
        },
        "outputId": "35270609-39fb-4346-db43-a143a7964047",
        "executionInfo": {
          "status": "ok",
          "timestamp": 1526752338446,
          "user_tz": -330,
          "elapsed": 1082,
          "user": {
            "displayName": "anmol dua",
            "photoUrl": "//lh5.googleusercontent.com/-HF-joOMdcg4/AAAAAAAAAAI/AAAAAAAAAlg/kbdvpsLISZY/s50-c-k-no/photo.jpg",
            "userId": "112678859369174631221"
          }
        }
      },
      "cell_type": "code",
      "source": [
        "train = pd.read_csv('./dataset/train.csv')\n",
        "train.head()"
      ],
      "execution_count": 7,
      "outputs": [
        {
          "output_type": "execute_result",
          "data": {
            "text/html": [
              "<div>\n",
              "<style scoped>\n",
              "    .dataframe tbody tr th:only-of-type {\n",
              "        vertical-align: middle;\n",
              "    }\n",
              "\n",
              "    .dataframe tbody tr th {\n",
              "        vertical-align: top;\n",
              "    }\n",
              "\n",
              "    .dataframe thead th {\n",
              "        text-align: right;\n",
              "    }\n",
              "</style>\n",
              "<table border=\"1\" class=\"dataframe\">\n",
              "  <thead>\n",
              "    <tr style=\"text-align: right;\">\n",
              "      <th></th>\n",
              "      <th>id</th>\n",
              "      <th>A</th>\n",
              "      <th>B</th>\n",
              "      <th>C</th>\n",
              "      <th>D</th>\n",
              "      <th>E</th>\n",
              "      <th>F</th>\n",
              "      <th>G</th>\n",
              "      <th>H</th>\n",
              "      <th>I</th>\n",
              "      <th>J</th>\n",
              "      <th>K</th>\n",
              "      <th>L</th>\n",
              "      <th>M</th>\n",
              "      <th>N</th>\n",
              "      <th>O</th>\n",
              "      <th>P</th>\n",
              "    </tr>\n",
              "  </thead>\n",
              "  <tbody>\n",
              "    <tr>\n",
              "      <th>0</th>\n",
              "      <td>1</td>\n",
              "      <td>b</td>\n",
              "      <td>18.42</td>\n",
              "      <td>10.415</td>\n",
              "      <td>y</td>\n",
              "      <td>p</td>\n",
              "      <td>aa</td>\n",
              "      <td>v</td>\n",
              "      <td>0.125</td>\n",
              "      <td>t</td>\n",
              "      <td>f</td>\n",
              "      <td>0</td>\n",
              "      <td>f</td>\n",
              "      <td>g</td>\n",
              "      <td>120.0</td>\n",
              "      <td>375</td>\n",
              "      <td>1</td>\n",
              "    </tr>\n",
              "    <tr>\n",
              "      <th>1</th>\n",
              "      <td>2</td>\n",
              "      <td>a</td>\n",
              "      <td>21.75</td>\n",
              "      <td>11.750</td>\n",
              "      <td>u</td>\n",
              "      <td>g</td>\n",
              "      <td>c</td>\n",
              "      <td>v</td>\n",
              "      <td>0.250</td>\n",
              "      <td>f</td>\n",
              "      <td>f</td>\n",
              "      <td>0</td>\n",
              "      <td>t</td>\n",
              "      <td>g</td>\n",
              "      <td>180.0</td>\n",
              "      <td>0</td>\n",
              "      <td>1</td>\n",
              "    </tr>\n",
              "    <tr>\n",
              "      <th>2</th>\n",
              "      <td>3</td>\n",
              "      <td>b</td>\n",
              "      <td>30.17</td>\n",
              "      <td>1.085</td>\n",
              "      <td>y</td>\n",
              "      <td>p</td>\n",
              "      <td>c</td>\n",
              "      <td>v</td>\n",
              "      <td>0.040</td>\n",
              "      <td>f</td>\n",
              "      <td>f</td>\n",
              "      <td>0</td>\n",
              "      <td>f</td>\n",
              "      <td>g</td>\n",
              "      <td>170.0</td>\n",
              "      <td>179</td>\n",
              "      <td>1</td>\n",
              "    </tr>\n",
              "    <tr>\n",
              "      <th>3</th>\n",
              "      <td>4</td>\n",
              "      <td>b</td>\n",
              "      <td>22.67</td>\n",
              "      <td>2.540</td>\n",
              "      <td>y</td>\n",
              "      <td>p</td>\n",
              "      <td>c</td>\n",
              "      <td>h</td>\n",
              "      <td>2.585</td>\n",
              "      <td>t</td>\n",
              "      <td>f</td>\n",
              "      <td>0</td>\n",
              "      <td>f</td>\n",
              "      <td>g</td>\n",
              "      <td>0.0</td>\n",
              "      <td>0</td>\n",
              "      <td>0</td>\n",
              "    </tr>\n",
              "    <tr>\n",
              "      <th>4</th>\n",
              "      <td>5</td>\n",
              "      <td>a</td>\n",
              "      <td>36.00</td>\n",
              "      <td>1.000</td>\n",
              "      <td>u</td>\n",
              "      <td>g</td>\n",
              "      <td>c</td>\n",
              "      <td>v</td>\n",
              "      <td>2.000</td>\n",
              "      <td>t</td>\n",
              "      <td>t</td>\n",
              "      <td>11</td>\n",
              "      <td>f</td>\n",
              "      <td>g</td>\n",
              "      <td>0.0</td>\n",
              "      <td>456</td>\n",
              "      <td>0</td>\n",
              "    </tr>\n",
              "  </tbody>\n",
              "</table>\n",
              "</div>"
            ],
            "text/plain": [
              "   id  A      B       C  D  E   F  G      H  I  J   K  L  M      N    O  P\n",
              "0   1  b  18.42  10.415  y  p  aa  v  0.125  t  f   0  f  g  120.0  375  1\n",
              "1   2  a  21.75  11.750  u  g   c  v  0.250  f  f   0  t  g  180.0    0  1\n",
              "2   3  b  30.17   1.085  y  p   c  v  0.040  f  f   0  f  g  170.0  179  1\n",
              "3   4  b  22.67   2.540  y  p   c  h  2.585  t  f   0  f  g    0.0    0  0\n",
              "4   5  a  36.00   1.000  u  g   c  v  2.000  t  t  11  f  g    0.0  456  0"
            ]
          },
          "metadata": {
            "tags": []
          },
          "execution_count": 7
        }
      ]
    },
    {
      "metadata": {
        "id": "b1Vb8eUrLkgp",
        "colab_type": "code",
        "colab": {
          "autoexec": {
            "startup": false,
            "wait_interval": 0
          },
          "base_uri": "https://localhost:8080/",
          "height": 510
        },
        "outputId": "d3d7dd48-660f-4891-b467-3eb8eb99c483",
        "executionInfo": {
          "status": "ok",
          "timestamp": 1526752343971,
          "user_tz": -330,
          "elapsed": 1878,
          "user": {
            "displayName": "anmol dua",
            "photoUrl": "//lh5.googleusercontent.com/-HF-joOMdcg4/AAAAAAAAAAI/AAAAAAAAAlg/kbdvpsLISZY/s50-c-k-no/photo.jpg",
            "userId": "112678859369174631221"
          }
        }
      },
      "cell_type": "code",
      "source": [
        "m = MachineLearning(train)"
      ],
      "execution_count": 8,
      "outputs": [
        {
          "output_type": "stream",
          "text": [
            "Functions : \n",
            "----------------------------------------------------\n",
            "For taking the updated dataset        : getDataSet()\n",
            "----------------------------------------------------\n",
            "For Checking Null Percentage          : checkCounts()\n",
            "----------------------------------------------------\n",
            "For checking Null Values              : checkNull()\n",
            "----------------------------------------------------\n",
            "For Getting Out Unique Values         : uniqueValues(column)\n",
            "----------------------------------------------------\n",
            "For drawing bargraph distribution     : drawDistribution(column)\n",
            "----------------------------------------------------\n",
            "Label Encoding                        : LabelEncoder(X)\n",
            "----------------------------------------------------\n",
            "Filling Null Values without Imputer   : FillNA(cols , filling_data)\n",
            "----------------------------------------------------\n",
            "Filling Null Values with Imputer      : FillNAImputer(strategy , X)\n",
            "----------------------------------------------------\n",
            "Train and Test Splitting              : traintestSplit(X , y)\n",
            "----------------------------------------------------\n",
            "XGBoost                               : XGBoost(X_train , y_train)\n",
            "----------------------------------------------------\n",
            "SVM                                   : SVM(X_train , y_train)\n",
            "----------------------------------------------------\n",
            "GaussianNB                            : GaussianNB(X_train,y_train)\n",
            "----------------------------------------------------\n",
            "CheckAccuracy                         : CheckAccuracy(X_test , y_test)\n",
            "----------------------------------------------------\n",
            "ConfusianMatrix                       : ConfusianMatrix(y_test , y_pred)\n"
          ],
          "name": "stdout"
        }
      ]
    },
    {
      "metadata": {
        "id": "fO-RzrUZZTIb",
        "colab_type": "code",
        "colab": {
          "autoexec": {
            "startup": false,
            "wait_interval": 0
          },
          "base_uri": "https://localhost:8080/",
          "height": 1768
        },
        "outputId": "8467821d-ec6b-4613-ebbf-026e045dd5da",
        "executionInfo": {
          "status": "ok",
          "timestamp": 1526752350834,
          "user_tz": -330,
          "elapsed": 1095,
          "user": {
            "displayName": "anmol dua",
            "photoUrl": "//lh5.googleusercontent.com/-HF-joOMdcg4/AAAAAAAAAAI/AAAAAAAAAlg/kbdvpsLISZY/s50-c-k-no/photo.jpg",
            "userId": "112678859369174631221"
          }
        }
      },
      "cell_type": "code",
      "source": [
        "m.checkCounts()"
      ],
      "execution_count": 9,
      "outputs": [
        {
          "output_type": "stream",
          "text": [
            "Info of Column : A\n",
            "Counts Without Null : \n",
            "b    374\n",
            "a    170\n",
            "Name: A, dtype: int64\n",
            "Null Counts  : \n",
            "8\n",
            "Null Percentage : 1.44927536232\n",
            "------------------------------------------------------------\n",
            "Info of Column : D\n",
            "Counts Without Null : \n",
            "u    416\n",
            "y    129\n",
            "l      2\n",
            "Name: D, dtype: int64\n",
            "Null Counts  : \n",
            "5\n",
            "Null Percentage : 0.905797101449\n",
            "------------------------------------------------------------\n",
            "Info of Column : E\n",
            "Counts Without Null : \n",
            "g     416\n",
            "p     129\n",
            "gg      2\n",
            "Name: E, dtype: int64\n",
            "Null Counts  : \n",
            "5\n",
            "Null Percentage : 0.905797101449\n",
            "------------------------------------------------------------\n",
            "Info of Column : F\n",
            "Counts Without Null : \n",
            "c     115\n",
            "q      66\n",
            "w      50\n",
            "i      47\n",
            "ff     43\n",
            "aa     42\n",
            "k      40\n",
            "x      31\n",
            "m      31\n",
            "cc     29\n",
            "d      24\n",
            "e      18\n",
            "j       8\n",
            "r       1\n",
            "Name: F, dtype: int64\n",
            "Null Counts  : \n",
            "7\n",
            "Null Percentage : 1.26811594203\n",
            "------------------------------------------------------------\n",
            "Info of Column : G\n",
            "Counts Without Null : \n",
            "v     319\n",
            "h     113\n",
            "bb     47\n",
            "ff     46\n",
            "z       7\n",
            "j       6\n",
            "dd      3\n",
            "n       2\n",
            "o       2\n",
            "Name: G, dtype: int64\n",
            "Null Counts  : \n",
            "7\n",
            "Null Percentage : 1.26811594203\n",
            "------------------------------------------------------------\n",
            "Info of Column : I\n",
            "Counts Without Null : \n",
            "t    286\n",
            "f    266\n",
            "Name: I, dtype: int64\n",
            "Null Counts  : \n",
            "0\n",
            "Null Percentage : 0.0\n",
            "------------------------------------------------------------\n",
            "Info of Column : J\n",
            "Counts Without Null : \n",
            "f    319\n",
            "t    233\n",
            "Name: J, dtype: int64\n",
            "Null Counts  : \n",
            "0\n",
            "Null Percentage : 0.0\n",
            "------------------------------------------------------------\n",
            "Info of Column : L\n",
            "Counts Without Null : \n",
            "f    298\n",
            "t    254\n",
            "Name: L, dtype: int64\n",
            "Null Counts  : \n",
            "0\n",
            "Null Percentage : 0.0\n",
            "------------------------------------------------------------\n",
            "Info of Column : M\n",
            "Counts Without Null : \n",
            "g    497\n",
            "s     48\n",
            "p      7\n",
            "Name: M, dtype: int64\n",
            "Null Counts  : \n",
            "0\n",
            "Null Percentage : 0.0\n",
            "------------------------------------------------------------\n"
          ],
          "name": "stdout"
        }
      ]
    },
    {
      "metadata": {
        "id": "pIhjEPBvLm6K",
        "colab_type": "code",
        "colab": {
          "autoexec": {
            "startup": false,
            "wait_interval": 0
          },
          "base_uri": "https://localhost:8080/",
          "height": 323
        },
        "outputId": "393d2f8e-b570-4722-e27a-00006b8e4a18",
        "executionInfo": {
          "status": "ok",
          "timestamp": 1526752359299,
          "user_tz": -330,
          "elapsed": 1389,
          "user": {
            "displayName": "anmol dua",
            "photoUrl": "//lh5.googleusercontent.com/-HF-joOMdcg4/AAAAAAAAAAI/AAAAAAAAAlg/kbdvpsLISZY/s50-c-k-no/photo.jpg",
            "userId": "112678859369174631221"
          }
        }
      },
      "cell_type": "code",
      "source": [
        "m.checkNull()"
      ],
      "execution_count": 10,
      "outputs": [
        {
          "output_type": "stream",
          "text": [
            "id     0\n",
            "A      8\n",
            "B      9\n",
            "C      0\n",
            "D      5\n",
            "E      5\n",
            "F      7\n",
            "G      7\n",
            "H      0\n",
            "I      0\n",
            "J      0\n",
            "K      0\n",
            "L      0\n",
            "M      0\n",
            "N     11\n",
            "O      0\n",
            "P      0\n",
            "dtype: int64\n"
          ],
          "name": "stdout"
        }
      ]
    },
    {
      "metadata": {
        "id": "FEBcE6qGijb_",
        "colab_type": "code",
        "colab": {
          "autoexec": {
            "startup": false,
            "wait_interval": 0
          },
          "base_uri": "https://localhost:8080/",
          "height": 102
        },
        "outputId": "d4dc6cae-5a5f-4f04-da14-313103e5e6cc",
        "executionInfo": {
          "status": "ok",
          "timestamp": 1526752363283,
          "user_tz": -330,
          "elapsed": 1082,
          "user": {
            "displayName": "anmol dua",
            "photoUrl": "//lh5.googleusercontent.com/-HF-joOMdcg4/AAAAAAAAAAI/AAAAAAAAAlg/kbdvpsLISZY/s50-c-k-no/photo.jpg",
            "userId": "112678859369174631221"
          }
        }
      },
      "cell_type": "code",
      "source": [
        "m.FillNA('A' , 'b')\n",
        "m.FillNA('D' , 'u')\n",
        "m.FillNA('E' , 'g')\n",
        "m.FillNA('F' , 'c')\n",
        "m.FillNA('G' , 'v')"
      ],
      "execution_count": 11,
      "outputs": [
        {
          "output_type": "stream",
          "text": [
            "Done !!\n",
            "Done !!\n",
            "Done !!\n",
            "Done !!\n",
            "Done !!\n"
          ],
          "name": "stdout"
        }
      ]
    },
    {
      "metadata": {
        "id": "gTW0MB_lLqjU",
        "colab_type": "code",
        "colab": {
          "autoexec": {
            "startup": false,
            "wait_interval": 0
          },
          "base_uri": "https://localhost:8080/",
          "height": 476
        },
        "outputId": "21fadea4-81e9-4a75-8dcb-445634397702",
        "executionInfo": {
          "status": "ok",
          "timestamp": 1526752367301,
          "user_tz": -330,
          "elapsed": 1677,
          "user": {
            "displayName": "anmol dua",
            "photoUrl": "//lh5.googleusercontent.com/-HF-joOMdcg4/AAAAAAAAAAI/AAAAAAAAAlg/kbdvpsLISZY/s50-c-k-no/photo.jpg",
            "userId": "112678859369174631221"
          }
        }
      },
      "cell_type": "code",
      "source": [
        "m.uniqueValues('A')\n",
        "m.uniqueValues('D')\n",
        "m.uniqueValues('E')\n",
        "m.uniqueValues('F')\n",
        "m.uniqueValues('G')\n",
        "m.uniqueValues('I')\n",
        "m.uniqueValues('J')\n",
        "m.uniqueValues('K')\n",
        "m.uniqueValues('P')"
      ],
      "execution_count": 12,
      "outputs": [
        {
          "output_type": "stream",
          "text": [
            "Unique Values of Column A :\n",
            "set(['a', 'b'])\n",
            "-------------------------------------------\n",
            "Unique Values of Column D :\n",
            "set(['y', 'u', 'l'])\n",
            "-------------------------------------------\n",
            "Unique Values of Column E :\n",
            "set(['gg', 'p', 'g'])\n",
            "-------------------------------------------\n",
            "Unique Values of Column F :\n",
            "set(['aa', 'c', 'e', 'd', 'i', 'k', 'j', 'm', 'q', 'cc', 'r', 'ff', 'x', 'w'])\n",
            "-------------------------------------------\n",
            "Unique Values of Column G :\n",
            "set(['bb', 'h', 'dd', 'j', 'o', 'n', 'ff', 'v', 'z'])\n",
            "-------------------------------------------\n",
            "Unique Values of Column I :\n",
            "set(['t', 'f'])\n",
            "-------------------------------------------\n",
            "Unique Values of Column J :\n",
            "set(['t', 'f'])\n",
            "-------------------------------------------\n",
            "Unique Values of Column K :\n",
            "set([0, 1, 2, 3, 4, 5, 6, 7, 8, 9, 10, 11, 12, 14, 15, 16, 17, 19, 20, 23, 40])\n",
            "-------------------------------------------\n",
            "Unique Values of Column P :\n",
            "set([0, 1])\n",
            "-------------------------------------------\n"
          ],
          "name": "stdout"
        }
      ]
    },
    {
      "metadata": {
        "id": "fvDT09PaMINq",
        "colab_type": "code",
        "colab": {
          "autoexec": {
            "startup": false,
            "wait_interval": 0
          },
          "base_uri": "https://localhost:8080/",
          "height": 397
        },
        "outputId": "b08b6e34-863d-4cd4-959d-d7f60ebbe074",
        "executionInfo": {
          "status": "ok",
          "timestamp": 1526752369692,
          "user_tz": -330,
          "elapsed": 1869,
          "user": {
            "displayName": "anmol dua",
            "photoUrl": "//lh5.googleusercontent.com/-HF-joOMdcg4/AAAAAAAAAAI/AAAAAAAAAlg/kbdvpsLISZY/s50-c-k-no/photo.jpg",
            "userId": "112678859369174631221"
          }
        }
      },
      "cell_type": "code",
      "source": [
        "m.drawDistribution('A')"
      ],
      "execution_count": 13,
      "outputs": [
        {
          "output_type": "stream",
          "text": [
            "Drawing Distribution of Column A :\n",
            "AxesSubplot(0.125,0.125;0.775x0.755)\n",
            "---------------------------------------------\n"
          ],
          "name": "stdout"
        },
        {
          "output_type": "display_data",
          "data": {
            "image/png": "[encoded data removed]",
            "text/plain": [
              "<matplotlib.figure.Figure at 0x7fc3adaed450>"
            ]
          },
          "metadata": {
            "tags": []
          }
        }
      ]
    },
    {
      "metadata": {
        "id": "seSUPfQTNd_3",
        "colab_type": "code",
        "colab": {
          "autoexec": {
            "startup": false,
            "wait_interval": 0
          },
          "base_uri": "https://localhost:8080/",
          "height": 393
        },
        "outputId": "c0f93c80-4fb6-4b7e-dd95-f55857438fa0",
        "executionInfo": {
          "status": "ok",
          "timestamp": 1526752371913,
          "user_tz": -330,
          "elapsed": 1402,
          "user": {
            "displayName": "anmol dua",
            "photoUrl": "//lh5.googleusercontent.com/-HF-joOMdcg4/AAAAAAAAAAI/AAAAAAAAAlg/kbdvpsLISZY/s50-c-k-no/photo.jpg",
            "userId": "112678859369174631221"
          }
        }
      },
      "cell_type": "code",
      "source": [
        "m.drawDistribution('D')"
      ],
      "execution_count": 14,
      "outputs": [
        {
          "output_type": "stream",
          "text": [
            "Drawing Distribution of Column D :\n",
            "AxesSubplot(0.125,0.125;0.775x0.755)\n",
            "---------------------------------------------\n"
          ],
          "name": "stdout"
        },
        {
          "output_type": "display_data",
          "data": {
            "image/png": "[encoded data removed]",
            "text/plain": [
              "<matplotlib.figure.Figure at 0x7fc36c70a790>"
            ]
          },
          "metadata": {
            "tags": []
          }
        }
      ]
    },
    {
      "metadata": {
        "id": "MxymICh7TylN",
        "colab_type": "code",
        "colab": {
          "autoexec": {
            "startup": false,
            "wait_interval": 0
          },
          "base_uri": "https://localhost:8080/",
          "height": 399
        },
        "outputId": "c8d8b748-74d6-4b29-e953-41b517c4a088",
        "executionInfo": {
          "status": "ok",
          "timestamp": 1526752373948,
          "user_tz": -330,
          "elapsed": 1224,
          "user": {
            "displayName": "anmol dua",
            "photoUrl": "//lh5.googleusercontent.com/-HF-joOMdcg4/AAAAAAAAAAI/AAAAAAAAAlg/kbdvpsLISZY/s50-c-k-no/photo.jpg",
            "userId": "112678859369174631221"
          }
        }
      },
      "cell_type": "code",
      "source": [
        "m.drawDistribution('E')"
      ],
      "execution_count": 15,
      "outputs": [
        {
          "output_type": "stream",
          "text": [
            "Drawing Distribution of Column E :\n",
            "AxesSubplot(0.125,0.125;0.775x0.755)\n",
            "---------------------------------------------\n"
          ],
          "name": "stdout"
        },
        {
          "output_type": "display_data",
          "data": {
            "image/png": "[encoded data removed]",
            "text/plain": [
              "<matplotlib.figure.Figure at 0x7fc36c6e1850>"
            ]
          },
          "metadata": {
            "tags": []
          }
        }
      ]
    },
    {
      "metadata": {
        "id": "32tdw9qHT1i6",
        "colab_type": "code",
        "colab": {
          "autoexec": {
            "startup": false,
            "wait_interval": 0
          },
          "base_uri": "https://localhost:8080/",
          "height": 399
        },
        "outputId": "e46ebab2-2aad-4dc6-a999-4876e7b1a441",
        "executionInfo": {
          "status": "ok",
          "timestamp": 1526752376413,
          "user_tz": -330,
          "elapsed": 1376,
          "user": {
            "displayName": "anmol dua",
            "photoUrl": "//lh5.googleusercontent.com/-HF-joOMdcg4/AAAAAAAAAAI/AAAAAAAAAlg/kbdvpsLISZY/s50-c-k-no/photo.jpg",
            "userId": "112678859369174631221"
          }
        }
      },
      "cell_type": "code",
      "source": [
        "m.drawDistribution('F')"
      ],
      "execution_count": 16,
      "outputs": [
        {
          "output_type": "stream",
          "text": [
            "Drawing Distribution of Column F :\n",
            "AxesSubplot(0.125,0.125;0.775x0.755)\n",
            "---------------------------------------------\n"
          ],
          "name": "stdout"
        },
        {
          "output_type": "display_data",
          "data": {
            "image/png": "[encoded data removed]",
            "text/plain": [
              "<matplotlib.figure.Figure at 0x7fc36a5fcf10>"
            ]
          },
          "metadata": {
            "tags": []
          }
        }
      ]
    },
    {
      "metadata": {
        "id": "1i692R3ST41Z",
        "colab_type": "code",
        "colab": {
          "autoexec": {
            "startup": false,
            "wait_interval": 0
          },
          "base_uri": "https://localhost:8080/",
          "height": 399
        },
        "outputId": "6904ea9a-9fbc-4c58-fec2-0ed0309f62c7",
        "executionInfo": {
          "status": "ok",
          "timestamp": 1526752378253,
          "user_tz": -330,
          "elapsed": 1052,
          "user": {
            "displayName": "anmol dua",
            "photoUrl": "//lh5.googleusercontent.com/-HF-joOMdcg4/AAAAAAAAAAI/AAAAAAAAAlg/kbdvpsLISZY/s50-c-k-no/photo.jpg",
            "userId": "112678859369174631221"
          }
        }
      },
      "cell_type": "code",
      "source": [
        "m.drawDistribution('G')"
      ],
      "execution_count": 17,
      "outputs": [
        {
          "output_type": "stream",
          "text": [
            "Drawing Distribution of Column G :\n",
            "AxesSubplot(0.125,0.125;0.775x0.755)\n",
            "---------------------------------------------\n"
          ],
          "name": "stdout"
        },
        {
          "output_type": "display_data",
          "data": {
            "image/png": "[encoded data removed]",
            "text/plain": [
              "<matplotlib.figure.Figure at 0x7fc36a58a610>"
            ]
          },
          "metadata": {
            "tags": []
          }
        }
      ]
    },
    {
      "metadata": {
        "id": "Y1RXXQM9UBqH",
        "colab_type": "code",
        "colab": {
          "autoexec": {
            "startup": false,
            "wait_interval": 0
          },
          "base_uri": "https://localhost:8080/",
          "height": 394
        },
        "outputId": "f60f8d59-a5c8-4ddc-8707-2fc2bd664ecd",
        "executionInfo": {
          "status": "ok",
          "timestamp": 1526752380390,
          "user_tz": -330,
          "elapsed": 1300,
          "user": {
            "displayName": "anmol dua",
            "photoUrl": "//lh5.googleusercontent.com/-HF-joOMdcg4/AAAAAAAAAAI/AAAAAAAAAlg/kbdvpsLISZY/s50-c-k-no/photo.jpg",
            "userId": "112678859369174631221"
          }
        }
      },
      "cell_type": "code",
      "source": [
        "m.drawDistribution('I')"
      ],
      "execution_count": 18,
      "outputs": [
        {
          "output_type": "stream",
          "text": [
            "Drawing Distribution of Column I :\n",
            "AxesSubplot(0.125,0.125;0.775x0.755)\n",
            "---------------------------------------------\n"
          ],
          "name": "stdout"
        },
        {
          "output_type": "display_data",
          "data": {
            "image/png": "[encoded data removed]",
            "text/plain": [
              "<matplotlib.figure.Figure at 0x7fc36a4b3ed0>"
            ]
          },
          "metadata": {
            "tags": []
          }
        }
      ]
    },
    {
      "metadata": {
        "id": "dDD8594bUD64",
        "colab_type": "code",
        "colab": {
          "autoexec": {
            "startup": false,
            "wait_interval": 0
          },
          "base_uri": "https://localhost:8080/",
          "height": 391
        },
        "outputId": "1a364371-cd71-46be-8d8d-8c103562b78c",
        "executionInfo": {
          "status": "ok",
          "timestamp": 1526752382997,
          "user_tz": -330,
          "elapsed": 1836,
          "user": {
            "displayName": "anmol dua",
            "photoUrl": "//lh5.googleusercontent.com/-HF-joOMdcg4/AAAAAAAAAAI/AAAAAAAAAlg/kbdvpsLISZY/s50-c-k-no/photo.jpg",
            "userId": "112678859369174631221"
          }
        }
      },
      "cell_type": "code",
      "source": [
        "m.drawDistribution('J')"
      ],
      "execution_count": 19,
      "outputs": [
        {
          "output_type": "stream",
          "text": [
            "Drawing Distribution of Column J :\n",
            "AxesSubplot(0.125,0.125;0.775x0.755)\n",
            "---------------------------------------------\n"
          ],
          "name": "stdout"
        },
        {
          "output_type": "display_data",
          "data": {
            "image/png": "[encoded data removed]",
            "text/plain": [
              "<matplotlib.figure.Figure at 0x7fc36a439050>"
            ]
          },
          "metadata": {
            "tags": []
          }
        }
      ]
    },
    {
      "metadata": {
        "id": "rHi92je0UGQR",
        "colab_type": "code",
        "colab": {
          "autoexec": {
            "startup": false,
            "wait_interval": 0
          },
          "base_uri": "https://localhost:8080/",
          "height": 399
        },
        "outputId": "f3e99de4-7936-4694-8b78-c6ba3997ae53",
        "executionInfo": {
          "status": "ok",
          "timestamp": 1526752386141,
          "user_tz": -330,
          "elapsed": 2325,
          "user": {
            "displayName": "anmol dua",
            "photoUrl": "//lh5.googleusercontent.com/-HF-joOMdcg4/AAAAAAAAAAI/AAAAAAAAAlg/kbdvpsLISZY/s50-c-k-no/photo.jpg",
            "userId": "112678859369174631221"
          }
        }
      },
      "cell_type": "code",
      "source": [
        "m.drawDistribution('K')"
      ],
      "execution_count": 20,
      "outputs": [
        {
          "output_type": "stream",
          "text": [
            "Drawing Distribution of Column K :\n",
            "AxesSubplot(0.125,0.125;0.775x0.755)\n",
            "---------------------------------------------\n"
          ],
          "name": "stdout"
        },
        {
          "output_type": "display_data",
          "data": {
            "image/png": "[encoded data removed]",
            "text/plain": [
              "<matplotlib.figure.Figure at 0x7fc36a3c6390>"
            ]
          },
          "metadata": {
            "tags": []
          }
        }
      ]
    },
    {
      "metadata": {
        "id": "-OuMkLmuUJf5",
        "colab_type": "code",
        "colab": {
          "autoexec": {
            "startup": false,
            "wait_interval": 0
          },
          "base_uri": "https://localhost:8080/",
          "height": 394
        },
        "outputId": "def4344c-9546-43b5-cc04-06802c4acc1c",
        "executionInfo": {
          "status": "ok",
          "timestamp": 1526752388899,
          "user_tz": -330,
          "elapsed": 1878,
          "user": {
            "displayName": "anmol dua",
            "photoUrl": "//lh5.googleusercontent.com/-HF-joOMdcg4/AAAAAAAAAAI/AAAAAAAAAlg/kbdvpsLISZY/s50-c-k-no/photo.jpg",
            "userId": "112678859369174631221"
          }
        }
      },
      "cell_type": "code",
      "source": [
        "m.drawDistribution('P')"
      ],
      "execution_count": 21,
      "outputs": [
        {
          "output_type": "stream",
          "text": [
            "Drawing Distribution of Column P :\n",
            "AxesSubplot(0.125,0.125;0.775x0.755)\n",
            "---------------------------------------------\n"
          ],
          "name": "stdout"
        },
        {
          "output_type": "display_data",
          "data": {
            "image/png": "[encoded data removed]",
            "text/plain": [
              "<matplotlib.figure.Figure at 0x7fc36a2d8b10>"
            ]
          },
          "metadata": {
            "tags": []
          }
        }
      ]
    },
    {
      "metadata": {
        "id": "kcciN_cBXPVN",
        "colab_type": "code",
        "colab": {
          "autoexec": {
            "startup": false,
            "wait_interval": 0
          },
          "base_uri": "https://localhost:8080/",
          "height": 204
        },
        "outputId": "59e5178e-4b22-4cc9-f13c-91c2ba449a61",
        "executionInfo": {
          "status": "ok",
          "timestamp": 1526752390735,
          "user_tz": -330,
          "elapsed": 1083,
          "user": {
            "displayName": "anmol dua",
            "photoUrl": "//lh5.googleusercontent.com/-HF-joOMdcg4/AAAAAAAAAAI/AAAAAAAAAlg/kbdvpsLISZY/s50-c-k-no/photo.jpg",
            "userId": "112678859369174631221"
          }
        }
      },
      "cell_type": "code",
      "source": [
        "dataset = m.getDataSet()\n",
        "dataset.head()"
      ],
      "execution_count": 22,
      "outputs": [
        {
          "output_type": "execute_result",
          "data": {
            "text/html": [
              "<div>\n",
              "<style scoped>\n",
              "    .dataframe tbody tr th:only-of-type {\n",
              "        vertical-align: middle;\n",
              "    }\n",
              "\n",
              "    .dataframe tbody tr th {\n",
              "        vertical-align: top;\n",
              "    }\n",
              "\n",
              "    .dataframe thead th {\n",
              "        text-align: right;\n",
              "    }\n",
              "</style>\n",
              "<table border=\"1\" class=\"dataframe\">\n",
              "  <thead>\n",
              "    <tr style=\"text-align: right;\">\n",
              "      <th></th>\n",
              "      <th>id</th>\n",
              "      <th>A</th>\n",
              "      <th>B</th>\n",
              "      <th>C</th>\n",
              "      <th>D</th>\n",
              "      <th>E</th>\n",
              "      <th>F</th>\n",
              "      <th>G</th>\n",
              "      <th>H</th>\n",
              "      <th>I</th>\n",
              "      <th>J</th>\n",
              "      <th>K</th>\n",
              "      <th>L</th>\n",
              "      <th>M</th>\n",
              "      <th>N</th>\n",
              "      <th>O</th>\n",
              "      <th>P</th>\n",
              "    </tr>\n",
              "  </thead>\n",
              "  <tbody>\n",
              "    <tr>\n",
              "      <th>0</th>\n",
              "      <td>1</td>\n",
              "      <td>b</td>\n",
              "      <td>18.42</td>\n",
              "      <td>10.415</td>\n",
              "      <td>y</td>\n",
              "      <td>p</td>\n",
              "      <td>aa</td>\n",
              "      <td>v</td>\n",
              "      <td>0.125</td>\n",
              "      <td>t</td>\n",
              "      <td>f</td>\n",
              "      <td>0</td>\n",
              "      <td>f</td>\n",
              "      <td>g</td>\n",
              "      <td>120.0</td>\n",
              "      <td>375</td>\n",
              "      <td>1</td>\n",
              "    </tr>\n",
              "    <tr>\n",
              "      <th>1</th>\n",
              "      <td>2</td>\n",
              "      <td>a</td>\n",
              "      <td>21.75</td>\n",
              "      <td>11.750</td>\n",
              "      <td>u</td>\n",
              "      <td>g</td>\n",
              "      <td>c</td>\n",
              "      <td>v</td>\n",
              "      <td>0.250</td>\n",
              "      <td>f</td>\n",
              "      <td>f</td>\n",
              "      <td>0</td>\n",
              "      <td>t</td>\n",
              "      <td>g</td>\n",
              "      <td>180.0</td>\n",
              "      <td>0</td>\n",
              "      <td>1</td>\n",
              "    </tr>\n",
              "    <tr>\n",
              "      <th>2</th>\n",
              "      <td>3</td>\n",
              "      <td>b</td>\n",
              "      <td>30.17</td>\n",
              "      <td>1.085</td>\n",
              "      <td>y</td>\n",
              "      <td>p</td>\n",
              "      <td>c</td>\n",
              "      <td>v</td>\n",
              "      <td>0.040</td>\n",
              "      <td>f</td>\n",
              "      <td>f</td>\n",
              "      <td>0</td>\n",
              "      <td>f</td>\n",
              "      <td>g</td>\n",
              "      <td>170.0</td>\n",
              "      <td>179</td>\n",
              "      <td>1</td>\n",
              "    </tr>\n",
              "    <tr>\n",
              "      <th>3</th>\n",
              "      <td>4</td>\n",
              "      <td>b</td>\n",
              "      <td>22.67</td>\n",
              "      <td>2.540</td>\n",
              "      <td>y</td>\n",
              "      <td>p</td>\n",
              "      <td>c</td>\n",
              "      <td>h</td>\n",
              "      <td>2.585</td>\n",
              "      <td>t</td>\n",
              "      <td>f</td>\n",
              "      <td>0</td>\n",
              "      <td>f</td>\n",
              "      <td>g</td>\n",
              "      <td>0.0</td>\n",
              "      <td>0</td>\n",
              "      <td>0</td>\n",
              "    </tr>\n",
              "    <tr>\n",
              "      <th>4</th>\n",
              "      <td>5</td>\n",
              "      <td>a</td>\n",
              "      <td>36.00</td>\n",
              "      <td>1.000</td>\n",
              "      <td>u</td>\n",
              "      <td>g</td>\n",
              "      <td>c</td>\n",
              "      <td>v</td>\n",
              "      <td>2.000</td>\n",
              "      <td>t</td>\n",
              "      <td>t</td>\n",
              "      <td>11</td>\n",
              "      <td>f</td>\n",
              "      <td>g</td>\n",
              "      <td>0.0</td>\n",
              "      <td>456</td>\n",
              "      <td>0</td>\n",
              "    </tr>\n",
              "  </tbody>\n",
              "</table>\n",
              "</div>"
            ],
            "text/plain": [
              "   id  A      B       C  D  E   F  G      H  I  J   K  L  M      N    O  P\n",
              "0   1  b  18.42  10.415  y  p  aa  v  0.125  t  f   0  f  g  120.0  375  1\n",
              "1   2  a  21.75  11.750  u  g   c  v  0.250  f  f   0  t  g  180.0    0  1\n",
              "2   3  b  30.17   1.085  y  p   c  v  0.040  f  f   0  f  g  170.0  179  1\n",
              "3   4  b  22.67   2.540  y  p   c  h  2.585  t  f   0  f  g    0.0    0  0\n",
              "4   5  a  36.00   1.000  u  g   c  v  2.000  t  t  11  f  g    0.0  456  0"
            ]
          },
          "metadata": {
            "tags": []
          },
          "execution_count": 22
        }
      ]
    },
    {
      "metadata": {
        "id": "QTuLGxqDcQ8j",
        "colab_type": "code",
        "colab": {
          "autoexec": {
            "startup": false,
            "wait_interval": 0
          }
        }
      },
      "cell_type": "code",
      "source": [
        "X = dataset.iloc[:, 1:16].values\n",
        "y = dataset.iloc[:, 16].values"
      ],
      "execution_count": 0,
      "outputs": []
    },
    {
      "metadata": {
        "id": "nNN1fRtafZPI",
        "colab_type": "code",
        "colab": {
          "autoexec": {
            "startup": false,
            "wait_interval": 0
          },
          "base_uri": "https://localhost:8080/",
          "height": 136
        },
        "outputId": "adb5c599-6479-46b6-a9f7-39b156773693",
        "executionInfo": {
          "status": "ok",
          "timestamp": 1526752395351,
          "user_tz": -330,
          "elapsed": 1549,
          "user": {
            "displayName": "anmol dua",
            "photoUrl": "//lh5.googleusercontent.com/-HF-joOMdcg4/AAAAAAAAAAI/AAAAAAAAAlg/kbdvpsLISZY/s50-c-k-no/photo.jpg",
            "userId": "112678859369174631221"
          }
        }
      },
      "cell_type": "code",
      "source": [
        "X"
      ],
      "execution_count": 24,
      "outputs": [
        {
          "output_type": "execute_result",
          "data": {
            "text/plain": [
              "array([['b', 18.42, 10.415, ..., 'g', 120.0, 375],\n",
              "       ['a', 21.75, 11.75, ..., 'g', 180.0, 0],\n",
              "       ['b', 30.17, 1.085, ..., 'g', 170.0, 179],\n",
              "       ...,\n",
              "       ['a', 41.33, 1.0, ..., 'g', 0.0, 300],\n",
              "       ['a', 30.42, 1.375, ..., 'g', 0.0, 33],\n",
              "       ['b', 47.17, 5.835, ..., 'g', 465.0, 150]], dtype=object)"
            ]
          },
          "metadata": {
            "tags": []
          },
          "execution_count": 24
        }
      ]
    },
    {
      "metadata": {
        "id": "g-4G4WGieIxT",
        "colab_type": "code",
        "colab": {
          "autoexec": {
            "startup": false,
            "wait_interval": 0
          },
          "base_uri": "https://localhost:8080/",
          "height": 629
        },
        "outputId": "65a4e744-c9db-4543-ad8f-8d6ecf73a795",
        "executionInfo": {
          "status": "ok",
          "timestamp": 1526752397024,
          "user_tz": -330,
          "elapsed": 777,
          "user": {
            "displayName": "anmol dua",
            "photoUrl": "//lh5.googleusercontent.com/-HF-joOMdcg4/AAAAAAAAAAI/AAAAAAAAAlg/kbdvpsLISZY/s50-c-k-no/photo.jpg",
            "userId": "112678859369174631221"
          }
        }
      },
      "cell_type": "code",
      "source": [
        "X[:,0] = m.LabelEncoder(X[:,0])\n",
        "X[:,3] = m.LabelEncoder(X[:,3])\n",
        "X[:,4] = m.LabelEncoder(X[:,4])\n",
        "X[:,5] = m.LabelEncoder(X[:,5])\n",
        "X[:,6] = m.LabelEncoder(X[:,6])\n",
        "X[:,8] = m.LabelEncoder(X[:,8])\n",
        "X[:,9] = m.LabelEncoder(X[:,9])\n",
        "X[:,11] = m.LabelEncoder(X[:,11])\n",
        "X[:,12] = m.LabelEncoder(X[:,12])"
      ],
      "execution_count": 25,
      "outputs": [
        {
          "output_type": "stream",
          "text": [
            "Label Encoding Starts :\n",
            "Classes : \n",
            "['a' 'b']\n",
            "---------------------------------------------\n",
            "Label Encoding Starts :\n",
            "Classes : \n",
            "['l' 'u' 'y']\n",
            "---------------------------------------------\n",
            "Label Encoding Starts :\n",
            "Classes : \n",
            "['g' 'gg' 'p']\n",
            "---------------------------------------------\n",
            "Label Encoding Starts :\n",
            "Classes : \n",
            "['aa' 'c' 'cc' 'd' 'e' 'ff' 'i' 'j' 'k' 'm' 'q' 'r' 'w' 'x']\n",
            "---------------------------------------------\n",
            "Label Encoding Starts :\n",
            "Classes : \n",
            "['bb' 'dd' 'ff' 'h' 'j' 'n' 'o' 'v' 'z']\n",
            "---------------------------------------------\n",
            "Label Encoding Starts :\n",
            "Classes : \n",
            "['f' 't']\n",
            "---------------------------------------------\n",
            "Label Encoding Starts :\n",
            "Classes : \n",
            "['f' 't']\n",
            "---------------------------------------------\n",
            "Label Encoding Starts :\n",
            "Classes : \n",
            "['f' 't']\n",
            "---------------------------------------------\n",
            "Label Encoding Starts :\n",
            "Classes : \n",
            "['g' 'p' 's']\n",
            "---------------------------------------------\n"
          ],
          "name": "stdout"
        }
      ]
    },
    {
      "metadata": {
        "id": "1X6Q0lkRf1Bp",
        "colab_type": "code",
        "colab": {
          "autoexec": {
            "startup": false,
            "wait_interval": 0
          },
          "base_uri": "https://localhost:8080/",
          "height": 136
        },
        "outputId": "76b579fb-55ba-4653-c873-679e3b7a374b",
        "executionInfo": {
          "status": "ok",
          "timestamp": 1526752399303,
          "user_tz": -330,
          "elapsed": 1301,
          "user": {
            "displayName": "anmol dua",
            "photoUrl": "//lh5.googleusercontent.com/-HF-joOMdcg4/AAAAAAAAAAI/AAAAAAAAAlg/kbdvpsLISZY/s50-c-k-no/photo.jpg",
            "userId": "112678859369174631221"
          }
        }
      },
      "cell_type": "code",
      "source": [
        "X"
      ],
      "execution_count": 26,
      "outputs": [
        {
          "output_type": "execute_result",
          "data": {
            "text/plain": [
              "array([[1, 18.42, 10.415, ..., 0, 120.0, 375],\n",
              "       [0, 21.75, 11.75, ..., 0, 180.0, 0],\n",
              "       [1, 30.17, 1.085, ..., 0, 170.0, 179],\n",
              "       ...,\n",
              "       [0, 41.33, 1.0, ..., 0, 0.0, 300],\n",
              "       [0, 30.42, 1.375, ..., 0, 0.0, 33],\n",
              "       [1, 47.17, 5.835, ..., 0, 465.0, 150]], dtype=object)"
            ]
          },
          "metadata": {
            "tags": []
          },
          "execution_count": 26
        }
      ]
    },
    {
      "metadata": {
        "id": "Wb4gm5BNkd7Q",
        "colab_type": "code",
        "colab": {
          "autoexec": {
            "startup": false,
            "wait_interval": 0
          },
          "base_uri": "https://localhost:8080/",
          "height": 34
        },
        "outputId": "051c926b-bfad-4f2f-dc03-471793e856b9",
        "executionInfo": {
          "status": "ok",
          "timestamp": 1526752401735,
          "user_tz": -330,
          "elapsed": 1373,
          "user": {
            "displayName": "anmol dua",
            "photoUrl": "//lh5.googleusercontent.com/-HF-joOMdcg4/AAAAAAAAAAI/AAAAAAAAAlg/kbdvpsLISZY/s50-c-k-no/photo.jpg",
            "userId": "112678859369174631221"
          }
        }
      },
      "cell_type": "code",
      "source": [
        "X = m.FillNAImputer('mean' , X)"
      ],
      "execution_count": 27,
      "outputs": [
        {
          "output_type": "stream",
          "text": [
            "Done !\n"
          ],
          "name": "stdout"
        }
      ]
    },
    {
      "metadata": {
        "id": "FaHopojjoKE9",
        "colab_type": "code",
        "colab": {
          "autoexec": {
            "startup": false,
            "wait_interval": 0
          },
          "base_uri": "https://localhost:8080/",
          "height": 136
        },
        "outputId": "acfbaf44-70a4-495c-9068-7b91d24101f1",
        "executionInfo": {
          "status": "ok",
          "timestamp": 1526752404800,
          "user_tz": -330,
          "elapsed": 2139,
          "user": {
            "displayName": "anmol dua",
            "photoUrl": "//lh5.googleusercontent.com/-HF-joOMdcg4/AAAAAAAAAAI/AAAAAAAAAlg/kbdvpsLISZY/s50-c-k-no/photo.jpg",
            "userId": "112678859369174631221"
          }
        }
      },
      "cell_type": "code",
      "source": [
        "X"
      ],
      "execution_count": 28,
      "outputs": [
        {
          "output_type": "execute_result",
          "data": {
            "text/plain": [
              "array([[  1.   ,  18.42 ,  10.415, ...,   0.   , 120.   , 375.   ],\n",
              "       [  0.   ,  21.75 ,  11.75 , ...,   0.   , 180.   ,   0.   ],\n",
              "       [  1.   ,  30.17 ,   1.085, ...,   0.   , 170.   , 179.   ],\n",
              "       ...,\n",
              "       [  0.   ,  41.33 ,   1.   , ...,   0.   ,   0.   , 300.   ],\n",
              "       [  0.   ,  30.42 ,   1.375, ...,   0.   ,   0.   ,  33.   ],\n",
              "       [  1.   ,  47.17 ,   5.835, ...,   0.   , 465.   , 150.   ]])"
            ]
          },
          "metadata": {
            "tags": []
          },
          "execution_count": 28
        }
      ]
    },
    {
      "metadata": {
        "id": "FM585S3DoLEQ",
        "colab_type": "code",
        "colab": {
          "autoexec": {
            "startup": false,
            "wait_interval": 0
          },
          "base_uri": "https://localhost:8080/",
          "height": 51
        },
        "outputId": "f41556c2-e6f4-4af8-ce7f-188ea8e020f7",
        "executionInfo": {
          "status": "ok",
          "timestamp": 1526752407785,
          "user_tz": -330,
          "elapsed": 1092,
          "user": {
            "displayName": "anmol dua",
            "photoUrl": "//lh5.googleusercontent.com/-HF-joOMdcg4/AAAAAAAAAAI/AAAAAAAAAlg/kbdvpsLISZY/s50-c-k-no/photo.jpg",
            "userId": "112678859369174631221"
          }
        }
      },
      "cell_type": "code",
      "source": [
        "X_train , X_test , y_train , y_test = m.traintestSplit(X,y)"
      ],
      "execution_count": 29,
      "outputs": [
        {
          "output_type": "stream",
          "text": [
            "Test Size : 0.2 Random State : 0\n",
            "Done!!\n"
          ],
          "name": "stdout"
        }
      ]
    },
    {
      "metadata": {
        "id": "yuldcbybOSg3",
        "colab_type": "code",
        "colab": {
          "autoexec": {
            "startup": false,
            "wait_interval": 0
          },
          "base_uri": "https://localhost:8080/",
          "height": 34
        },
        "outputId": "e3ace7c7-1eab-4438-ec70-207477d34700",
        "executionInfo": {
          "status": "ok",
          "timestamp": 1526752409884,
          "user_tz": -330,
          "elapsed": 1161,
          "user": {
            "displayName": "anmol dua",
            "photoUrl": "//lh5.googleusercontent.com/-HF-joOMdcg4/AAAAAAAAAAI/AAAAAAAAAlg/kbdvpsLISZY/s50-c-k-no/photo.jpg",
            "userId": "112678859369174631221"
          }
        }
      },
      "cell_type": "code",
      "source": [
        "len(X_train)"
      ],
      "execution_count": 30,
      "outputs": [
        {
          "output_type": "execute_result",
          "data": {
            "text/plain": [
              "441"
            ]
          },
          "metadata": {
            "tags": []
          },
          "execution_count": 30
        }
      ]
    },
    {
      "metadata": {
        "id": "GGJyUH9MM0U-",
        "colab_type": "code",
        "colab": {
          "autoexec": {
            "startup": false,
            "wait_interval": 0
          },
          "base_uri": "https://localhost:8080/",
          "height": 3828
        },
        "outputId": "44098c1d-0096-4fef-c70b-67b1aa43eb3c",
        "executionInfo": {
          "status": "ok",
          "timestamp": 1526752433028,
          "user_tz": -330,
          "elapsed": 22024,
          "user": {
            "displayName": "anmol dua",
            "photoUrl": "//lh5.googleusercontent.com/-HF-joOMdcg4/AAAAAAAAAAI/AAAAAAAAAlg/kbdvpsLISZY/s50-c-k-no/photo.jpg",
            "userId": "112678859369174631221"
          }
        }
      },
      "cell_type": "code",
      "source": [
        "## Neural Network\n",
        "\n",
        "model_nn , y_pred_nn = m.NeuralNetwork(X_train,y_train,X_test,y_test,16,100)"
      ],
      "execution_count": 31,
      "outputs": [
        {
          "output_type": "stream",
          "text": [
            "Model Initialized :)\n",
            "Successfully Compiled\n",
            "Model Summary \n",
            "\n",
            "_________________________________________________________________\n",
            "Layer (type)                 Output Shape              Param #   \n",
            "=================================================================\n",
            "dense_1 (Dense)              (None, 10)                160       \n",
            "_________________________________________________________________\n",
            "dense_2 (Dense)              (None, 5)                 55        \n",
            "_________________________________________________________________\n",
            "dense_3 (Dense)              (None, 1)                 6         \n",
            "=================================================================\n",
            "Total params: 221\n",
            "Trainable params: 221\n",
            "Non-trainable params: 0\n",
            "_________________________________________________________________\n",
            "None\n",
            "Batch Size : 16 Epochs : 100\n",
            "Epoch 1/100\n",
            "441/441 [==============================] - 1s 3ms/step - loss: 0.6739 - acc: 0.5283\n",
            "Epoch 2/100\n",
            "441/441 [==============================] - 0s 377us/step - loss: 0.6500 - acc: 0.6803\n",
            "Epoch 3/100\n",
            "441/441 [==============================] - 0s 424us/step - loss: 0.6428 - acc: 0.6939\n",
            "Epoch 4/100\n",
            "441/441 [==============================] - 0s 438us/step - loss: 0.6389 - acc: 0.6780\n",
            "Epoch 5/100\n",
            "441/441 [==============================] - 0s 435us/step - loss: 0.6385 - acc: 0.6893\n",
            "Epoch 6/100\n",
            "441/441 [==============================] - 0s 446us/step - loss: 0.6333 - acc: 0.6893\n",
            "Epoch 7/100\n",
            "441/441 [==============================] - 0s 466us/step - loss: 0.6307 - acc: 0.6939\n",
            "Epoch 8/100\n",
            "441/441 [==============================] - 0s 441us/step - loss: 0.6299 - acc: 0.6825\n",
            "Epoch 9/100\n",
            "441/441 [==============================] - 0s 457us/step - loss: 0.6326 - acc: 0.7052\n",
            "Epoch 10/100\n",
            "441/441 [==============================] - 0s 435us/step - loss: 0.6259 - acc: 0.6961\n",
            "Epoch 11/100\n",
            "441/441 [==============================] - 0s 438us/step - loss: 0.6203 - acc: 0.7052\n",
            "Epoch 12/100\n",
            "400/441 [==========================>...] - ETA: 0s - loss: 0.6174 - acc: 0.7125"
          ],
          "name": "stdout"
        },
        {
          "output_type": "stream",
          "text": [
            "441/441 [==============================] - 0s 455us/step - loss: 0.6239 - acc: 0.7052\n",
            "Epoch 13/100\n",
            "441/441 [==============================] - 0s 448us/step - loss: 0.6179 - acc: 0.7120\n",
            "Epoch 14/100\n",
            "441/441 [==============================] - 0s 432us/step - loss: 0.6138 - acc: 0.7098\n",
            "Epoch 15/100\n",
            "441/441 [==============================] - 0s 460us/step - loss: 0.6134 - acc: 0.7029\n",
            "Epoch 16/100\n",
            "441/441 [==============================] - 0s 431us/step - loss: 0.6144 - acc: 0.7211\n",
            "Epoch 17/100\n",
            "441/441 [==============================] - 0s 439us/step - loss: 0.5977 - acc: 0.7279\n",
            "Epoch 18/100\n",
            "441/441 [==============================] - 0s 442us/step - loss: 0.5965 - acc: 0.7370\n",
            "Epoch 19/100\n",
            "441/441 [==============================] - 0s 463us/step - loss: 0.5809 - acc: 0.7392\n",
            "Epoch 20/100\n",
            "441/441 [==============================] - 0s 437us/step - loss: 0.5754 - acc: 0.7324\n",
            "Epoch 21/100\n",
            "441/441 [==============================] - 0s 437us/step - loss: 0.5662 - acc: 0.7506\n",
            "Epoch 22/100\n",
            "441/441 [==============================] - 0s 442us/step - loss: 0.5604 - acc: 0.7506\n",
            "Epoch 23/100\n",
            "441/441 [==============================] - 0s 436us/step - loss: 0.5568 - acc: 0.7642\n",
            "Epoch 24/100\n",
            "441/441 [==============================] - 0s 459us/step - loss: 0.5300 - acc: 0.7732\n",
            "Epoch 25/100\n",
            "441/441 [==============================] - 0s 433us/step - loss: 0.5372 - acc: 0.7664\n",
            "Epoch 26/100\n",
            "441/441 [==============================] - 0s 445us/step - loss: 0.5648 - acc: 0.7528\n",
            "Epoch 27/100\n",
            "441/441 [==============================] - 0s 439us/step - loss: 0.5341 - acc: 0.7868\n",
            "Epoch 28/100\n",
            "441/441 [==============================] - 0s 448us/step - loss: 0.5270 - acc: 0.7868\n",
            "Epoch 29/100\n",
            "441/441 [==============================] - 0s 442us/step - loss: 0.5568 - acc: 0.7642\n"
          ],
          "name": "stdout"
        },
        {
          "output_type": "stream",
          "text": [
            "Epoch 30/100\n",
            "441/441 [==============================] - 0s 434us/step - loss: 0.4945 - acc: 0.8005\n",
            "Epoch 31/100\n",
            "441/441 [==============================] - 0s 455us/step - loss: 0.5156 - acc: 0.7914\n",
            "Epoch 32/100\n",
            "441/441 [==============================] - 0s 444us/step - loss: 0.4875 - acc: 0.8073\n",
            "Epoch 33/100\n",
            "441/441 [==============================] - 0s 441us/step - loss: 0.5575 - acc: 0.7982\n",
            "Epoch 34/100\n",
            "441/441 [==============================] - 0s 431us/step - loss: 0.6771 - acc: 0.7483\n",
            "Epoch 35/100\n",
            "441/441 [==============================] - 0s 431us/step - loss: 0.5231 - acc: 0.7732\n",
            "Epoch 36/100\n",
            "441/441 [==============================] - 0s 433us/step - loss: 0.4931 - acc: 0.7937\n",
            "Epoch 37/100\n",
            "441/441 [==============================] - 0s 429us/step - loss: 0.4783 - acc: 0.8005\n",
            "Epoch 38/100\n",
            "441/441 [==============================] - 0s 431us/step - loss: 0.5022 - acc: 0.7982\n",
            "Epoch 39/100\n",
            "441/441 [==============================] - 0s 444us/step - loss: 0.4989 - acc: 0.7937\n",
            "Epoch 40/100\n",
            "441/441 [==============================] - 0s 437us/step - loss: 0.4779 - acc: 0.8050\n",
            "Epoch 41/100\n",
            "441/441 [==============================] - 0s 432us/step - loss: 0.4618 - acc: 0.8050\n",
            "Epoch 42/100\n",
            "441/441 [==============================] - 0s 456us/step - loss: 0.4442 - acc: 0.8050\n",
            "Epoch 43/100\n",
            "441/441 [==============================] - 0s 422us/step - loss: 0.4421 - acc: 0.8141\n",
            "Epoch 44/100\n",
            "441/441 [==============================] - 0s 469us/step - loss: 0.4403 - acc: 0.8118\n",
            "Epoch 45/100\n",
            "441/441 [==============================] - 0s 430us/step - loss: 0.4499 - acc: 0.8095\n",
            "Epoch 46/100\n",
            "441/441 [==============================] - 0s 442us/step - loss: 0.4609 - acc: 0.8027\n",
            "Epoch 47/100\n",
            "441/441 [==============================] - 0s 438us/step - loss: 0.4618 - acc: 0.7959\n",
            "Epoch 48/100\n"
          ],
          "name": "stdout"
        },
        {
          "output_type": "stream",
          "text": [
            "441/441 [==============================] - 0s 419us/step - loss: 0.4409 - acc: 0.8005\n",
            "Epoch 49/100\n",
            "441/441 [==============================] - 0s 449us/step - loss: 0.4375 - acc: 0.8050\n",
            "Epoch 50/100\n",
            "441/441 [==============================] - 0s 423us/step - loss: 0.4341 - acc: 0.8005\n",
            "Epoch 51/100\n",
            "441/441 [==============================] - 0s 438us/step - loss: 0.4297 - acc: 0.8073\n",
            "Epoch 52/100\n",
            "441/441 [==============================] - 0s 453us/step - loss: 0.4262 - acc: 0.8005\n",
            "Epoch 53/100\n",
            "441/441 [==============================] - 0s 445us/step - loss: 0.4244 - acc: 0.8095\n",
            "Epoch 54/100\n",
            "441/441 [==============================] - 0s 443us/step - loss: 0.4302 - acc: 0.8050\n",
            "Epoch 55/100\n",
            "441/441 [==============================] - 0s 438us/step - loss: 0.4220 - acc: 0.8186\n",
            "Epoch 56/100\n",
            "441/441 [==============================] - 0s 432us/step - loss: 0.4180 - acc: 0.8186\n",
            "Epoch 57/100\n",
            "441/441 [==============================] - 0s 458us/step - loss: 0.4272 - acc: 0.8209\n",
            "Epoch 58/100\n",
            "441/441 [==============================] - 0s 429us/step - loss: 0.4134 - acc: 0.8186\n",
            "Epoch 59/100\n",
            "441/441 [==============================] - 0s 450us/step - loss: 0.4256 - acc: 0.8118\n",
            "Epoch 60/100\n",
            "441/441 [==============================] - 0s 416us/step - loss: 0.4214 - acc: 0.8186\n",
            "Epoch 61/100\n",
            "441/441 [==============================] - 0s 431us/step - loss: 0.4456 - acc: 0.8050\n",
            "Epoch 62/100\n",
            "441/441 [==============================] - 0s 455us/step - loss: 0.4260 - acc: 0.8118\n",
            "Epoch 63/100\n",
            "441/441 [==============================] - 0s 435us/step - loss: 0.4124 - acc: 0.8118\n",
            "Epoch 64/100\n",
            "441/441 [==============================] - 0s 439us/step - loss: 0.4047 - acc: 0.8209\n",
            "Epoch 65/100\n",
            "441/441 [==============================] - 0s 429us/step - loss: 0.4253 - acc: 0.8186\n",
            "Epoch 66/100\n",
            "272/441 [=================>............] - ETA: 0s - loss: 0.5482 - acc: 0.7941"
          ],
          "name": "stdout"
        },
        {
          "output_type": "stream",
          "text": [
            "441/441 [==============================] - 0s 428us/step - loss: 0.4884 - acc: 0.8073\n",
            "Epoch 67/100\n",
            "441/441 [==============================] - 0s 436us/step - loss: 0.4089 - acc: 0.8277\n",
            "Epoch 68/100\n",
            "441/441 [==============================] - 0s 415us/step - loss: 0.4054 - acc: 0.8209\n",
            "Epoch 69/100\n",
            "441/441 [==============================] - 0s 431us/step - loss: 0.4166 - acc: 0.8118\n",
            "Epoch 70/100\n",
            "441/441 [==============================] - 0s 452us/step - loss: 0.3980 - acc: 0.8254\n",
            "Epoch 71/100\n",
            "441/441 [==============================] - 0s 423us/step - loss: 0.4159 - acc: 0.8050\n",
            "Epoch 72/100\n",
            "441/441 [==============================] - 0s 448us/step - loss: 0.3990 - acc: 0.8277\n",
            "Epoch 73/100\n",
            "441/441 [==============================] - 0s 427us/step - loss: 0.3927 - acc: 0.8141\n",
            "Epoch 74/100\n",
            "441/441 [==============================] - 0s 448us/step - loss: 0.3869 - acc: 0.8413\n",
            "Epoch 75/100\n",
            "441/441 [==============================] - 0s 430us/step - loss: 0.4440 - acc: 0.8005\n",
            "Epoch 76/100\n",
            "441/441 [==============================] - 0s 402us/step - loss: 0.4093 - acc: 0.8141\n",
            "Epoch 77/100\n",
            "441/441 [==============================] - 0s 436us/step - loss: 0.4129 - acc: 0.8163\n",
            "Epoch 78/100\n",
            "441/441 [==============================] - 0s 417us/step - loss: 0.4115 - acc: 0.8073\n",
            "Epoch 79/100\n",
            "441/441 [==============================] - 0s 441us/step - loss: 0.4208 - acc: 0.8186\n",
            "Epoch 80/100\n",
            "441/441 [==============================] - 0s 424us/step - loss: 0.4406 - acc: 0.8050\n",
            "Epoch 81/100\n",
            "441/441 [==============================] - 0s 429us/step - loss: 0.4098 - acc: 0.8254\n",
            "Epoch 82/100\n",
            "441/441 [==============================] - 0s 437us/step - loss: 0.3866 - acc: 0.8299\n",
            "Epoch 83/100\n",
            "441/441 [==============================] - 0s 436us/step - loss: 0.3841 - acc: 0.8345\n",
            "Epoch 84/100\n",
            "288/441 [==================>...........] - ETA: 0s - loss: 0.3834 - acc: 0.8299"
          ],
          "name": "stdout"
        },
        {
          "output_type": "stream",
          "text": [
            "441/441 [==============================] - 0s 410us/step - loss: 0.3834 - acc: 0.8277\n",
            "Epoch 85/100\n",
            "441/441 [==============================] - 0s 411us/step - loss: 0.3842 - acc: 0.8299\n",
            "Epoch 86/100\n",
            "441/441 [==============================] - 0s 456us/step - loss: 0.3789 - acc: 0.8345\n",
            "Epoch 87/100\n",
            "441/441 [==============================] - 0s 444us/step - loss: 0.3814 - acc: 0.8277\n",
            "Epoch 88/100\n",
            "441/441 [==============================] - 0s 437us/step - loss: 0.3736 - acc: 0.8435\n",
            "Epoch 89/100\n",
            "441/441 [==============================] - 0s 423us/step - loss: 0.3825 - acc: 0.8299\n",
            "Epoch 90/100\n",
            "441/441 [==============================] - 0s 433us/step - loss: 0.3744 - acc: 0.8299\n",
            "Epoch 91/100\n",
            "441/441 [==============================] - 0s 446us/step - loss: 0.4438 - acc: 0.8254\n",
            "Epoch 92/100\n",
            "441/441 [==============================] - 0s 424us/step - loss: 0.4135 - acc: 0.8073\n",
            "Epoch 93/100\n",
            "441/441 [==============================] - 0s 459us/step - loss: 0.3761 - acc: 0.8322\n",
            "Epoch 94/100\n",
            "441/441 [==============================] - 0s 434us/step - loss: 0.3800 - acc: 0.8367\n",
            "Epoch 95/100\n",
            "441/441 [==============================] - 0s 439us/step - loss: 0.3776 - acc: 0.8277\n",
            "Epoch 96/100\n",
            "441/441 [==============================] - 0s 450us/step - loss: 0.3689 - acc: 0.8254\n",
            "Epoch 97/100\n",
            "441/441 [==============================] - 0s 450us/step - loss: 0.3623 - acc: 0.8435\n",
            "Epoch 98/100\n",
            "441/441 [==============================] - 0s 420us/step - loss: 0.3505 - acc: 0.8481\n",
            "Epoch 99/100\n",
            "441/441 [==============================] - 0s 428us/step - loss: 0.3643 - acc: 0.8367\n",
            "Epoch 100/100\n",
            "441/441 [==============================] - 0s 443us/step - loss: 0.4820 - acc: 0.8186\n",
            "Confusion Matrix : \n",
            "[[35  6]\n",
            " [20 50]]\n",
            "Accuracy : 76\n"
          ],
          "name": "stdout"
        }
      ]
    },
    {
      "metadata": {
        "id": "fYnsElUZpHQY",
        "colab_type": "code",
        "colab": {
          "autoexec": {
            "startup": false,
            "wait_interval": 0
          },
          "base_uri": "https://localhost:8080/",
          "height": 178
        },
        "outputId": "3e2332b8-7153-4612-e398-b4fe14dc78e6",
        "executionInfo": {
          "status": "ok",
          "timestamp": 1526752467127,
          "user_tz": -330,
          "elapsed": 1098,
          "user": {
            "displayName": "anmol dua",
            "photoUrl": "//lh5.googleusercontent.com/-HF-joOMdcg4/AAAAAAAAAAI/AAAAAAAAAlg/kbdvpsLISZY/s50-c-k-no/photo.jpg",
            "userId": "112678859369174631221"
          }
        }
      },
      "cell_type": "code",
      "source": [
        "# XGBoost\n",
        "\n",
        "classifier_xg = m.XGBoost(X_train , y_train,max_depth = 6 , n_estimators = 500)\n",
        "y_xg = m.CheckAccuracy(X_test,y_test)"
      ],
      "execution_count": 32,
      "outputs": [
        {
          "output_type": "stream",
          "text": [
            "Done!!\n",
            "[[37  4]\n",
            " [10 60]]\n",
            "Accuracy : \n",
            "87.3873873874\n",
            "--------------------------------------------------\n"
          ],
          "name": "stdout"
        },
        {
          "output_type": "stream",
          "text": [
            "/usr/local/lib/python2.7/dist-packages/sklearn/preprocessing/label.py:151: DeprecationWarning: The truth value of an empty array is ambiguous. Returning False, but in future this will result in an error. Use `array.size > 0` to check that an array is not empty.\n",
            "  if diff:\n"
          ],
          "name": "stderr"
        }
      ]
    },
    {
      "metadata": {
        "id": "3ms-CKOZpK1m",
        "colab_type": "code",
        "colab": {
          "autoexec": {
            "startup": false,
            "wait_interval": 0
          },
          "base_uri": "https://localhost:8080/",
          "height": 119
        },
        "outputId": "2772fcac-5e14-492d-9123-b71a9ce4cd8e",
        "executionInfo": {
          "status": "ok",
          "timestamp": 1526752561541,
          "user_tz": -330,
          "elapsed": 92638,
          "user": {
            "displayName": "anmol dua",
            "photoUrl": "//lh5.googleusercontent.com/-HF-joOMdcg4/AAAAAAAAAAI/AAAAAAAAAlg/kbdvpsLISZY/s50-c-k-no/photo.jpg",
            "userId": "112678859369174631221"
          }
        }
      },
      "cell_type": "code",
      "source": [
        "## SVM\n",
        "\n",
        "classifier_svm = m.SVM(X_train,y_train,'linear',0)\n",
        "y_svm = m.CheckAccuracy(X_test,y_test)"
      ],
      "execution_count": 33,
      "outputs": [
        {
          "output_type": "stream",
          "text": [
            "Done !!\n",
            "[[40  1]\n",
            " [15 55]]\n",
            "Accuracy : \n",
            "85.5855855856\n",
            "--------------------------------------------------\n"
          ],
          "name": "stdout"
        }
      ]
    },
    {
      "metadata": {
        "id": "3D9eZApxx7-M",
        "colab_type": "code",
        "colab": {
          "autoexec": {
            "startup": false,
            "wait_interval": 0
          }
        }
      },
      "cell_type": "code",
      "source": [
        "y_pred = y_xg+y_svm"
      ],
      "execution_count": 0,
      "outputs": []
    },
    {
      "metadata": {
        "id": "HxnVA3zex8mq",
        "colab_type": "code",
        "colab": {
          "autoexec": {
            "startup": false,
            "wait_interval": 0
          },
          "base_uri": "https://localhost:8080/",
          "height": 119
        },
        "outputId": "99f6109c-26ba-4f20-ed8c-9364c125a5c3",
        "executionInfo": {
          "status": "ok",
          "timestamp": 1526752592355,
          "user_tz": -330,
          "elapsed": 1113,
          "user": {
            "displayName": "anmol dua",
            "photoUrl": "//lh5.googleusercontent.com/-HF-joOMdcg4/AAAAAAAAAAI/AAAAAAAAAlg/kbdvpsLISZY/s50-c-k-no/photo.jpg",
            "userId": "112678859369174631221"
          }
        }
      },
      "cell_type": "code",
      "source": [
        "y_pred"
      ],
      "execution_count": 41,
      "outputs": [
        {
          "output_type": "execute_result",
          "data": {
            "text/plain": [
              "array([0, 1, 2, 0, 0, 2, 2, 0, 2, 0, 2, 0, 0, 2, 2, 0, 2, 0, 0, 0, 0, 0,\n",
              "       0, 0, 0, 2, 1, 2, 2, 0, 0, 0, 2, 2, 2, 0, 2, 0, 2, 2, 2, 2, 0, 1,\n",
              "       1, 2, 2, 0, 2, 0, 2, 1, 1, 2, 2, 0, 2, 2, 2, 0, 0, 2, 1, 1, 0, 0,\n",
              "       0, 2, 2, 2, 2, 1, 2, 2, 2, 2, 2, 0, 0, 2, 2, 2, 2, 2, 0, 0, 2, 2,\n",
              "       2, 1, 2, 2, 2, 2, 0, 2, 0, 0, 2, 2, 0, 0, 0, 0, 2, 0, 0, 0, 2, 0,\n",
              "       0])"
            ]
          },
          "metadata": {
            "tags": []
          },
          "execution_count": 41
        }
      ]
    },
    {
      "metadata": {
        "id": "0G25hK_Rx8p9",
        "colab_type": "code",
        "colab": {
          "autoexec": {
            "startup": false,
            "wait_interval": 0
          }
        }
      },
      "cell_type": "code",
      "source": [
        "y_pred = y_pred/2.0"
      ],
      "execution_count": 0,
      "outputs": []
    },
    {
      "metadata": {
        "id": "u3sQSz9byMhA",
        "colab_type": "code",
        "colab": {
          "autoexec": {
            "startup": false,
            "wait_interval": 0
          }
        }
      },
      "cell_type": "code",
      "source": [
        "y_pred = y_pred>=0.5"
      ],
      "execution_count": 0,
      "outputs": []
    },
    {
      "metadata": {
        "id": "A3JNKVnDyMmP",
        "colab_type": "code",
        "colab": {
          "autoexec": {
            "startup": false,
            "wait_interval": 0
          },
          "base_uri": "https://localhost:8080/",
          "height": 85
        },
        "outputId": "09a9222c-5dda-4f11-ab32-f863a833ada8",
        "executionInfo": {
          "status": "ok",
          "timestamp": 1526752597994,
          "user_tz": -330,
          "elapsed": 1148,
          "user": {
            "displayName": "anmol dua",
            "photoUrl": "//lh5.googleusercontent.com/-HF-joOMdcg4/AAAAAAAAAAI/AAAAAAAAAlg/kbdvpsLISZY/s50-c-k-no/photo.jpg",
            "userId": "112678859369174631221"
          }
        }
      },
      "cell_type": "code",
      "source": [
        "m.ConfusionMatrix(y_test , y_pred)"
      ],
      "execution_count": 44,
      "outputs": [
        {
          "output_type": "stream",
          "text": [
            "Confusion Matrix : \n",
            "[[37  4]\n",
            " [ 9 61]]\n",
            "Accuracy : 88\n"
          ],
          "name": "stdout"
        }
      ]
    },
    {
      "metadata": {
        "id": "TDYnAtTFuiRU",
        "colab_type": "code",
        "colab": {
          "autoexec": {
            "startup": false,
            "wait_interval": 0
          },
          "base_uri": "https://localhost:8080/",
          "height": 119
        },
        "outputId": "145fd7de-11f2-437c-e4f4-0048c46e36ef",
        "executionInfo": {
          "status": "ok",
          "timestamp": 1526752600350,
          "user_tz": -330,
          "elapsed": 1216,
          "user": {
            "displayName": "anmol dua",
            "photoUrl": "//lh5.googleusercontent.com/-HF-joOMdcg4/AAAAAAAAAAI/AAAAAAAAAlg/kbdvpsLISZY/s50-c-k-no/photo.jpg",
            "userId": "112678859369174631221"
          }
        }
      },
      "cell_type": "code",
      "source": [
        "# Gaussian Naive Bayes\n",
        "\n",
        "m.GaussianNB(X_train,y_train)\n",
        "y_gauss = m.CheckAccuracy(X_test,y_test)"
      ],
      "execution_count": 45,
      "outputs": [
        {
          "output_type": "stream",
          "text": [
            "Done !!\n",
            "[[25 16]\n",
            " [ 9 61]]\n",
            "Accuracy : \n",
            "77.4774774775\n",
            "--------------------------------------------------\n"
          ],
          "name": "stdout"
        }
      ]
    },
    {
      "metadata": {
        "id": "lFiVx_u7vinE",
        "colab_type": "code",
        "colab": {
          "autoexec": {
            "startup": false,
            "wait_interval": 0
          }
        }
      },
      "cell_type": "code",
      "source": [
        "test = pd.read_csv('./dataset/test.csv')"
      ],
      "execution_count": 0,
      "outputs": []
    },
    {
      "metadata": {
        "id": "hc28nYsVy4LU",
        "colab_type": "code",
        "colab": {
          "autoexec": {
            "startup": false,
            "wait_interval": 0
          },
          "base_uri": "https://localhost:8080/",
          "height": 204
        },
        "outputId": "efa3bb15-6e61-42fb-e5a5-0d724279cec6",
        "executionInfo": {
          "status": "ok",
          "timestamp": 1526752606590,
          "user_tz": -330,
          "elapsed": 1725,
          "user": {
            "displayName": "anmol dua",
            "photoUrl": "//lh5.googleusercontent.com/-HF-joOMdcg4/AAAAAAAAAAI/AAAAAAAAAlg/kbdvpsLISZY/s50-c-k-no/photo.jpg",
            "userId": "112678859369174631221"
          }
        }
      },
      "cell_type": "code",
      "source": [
        "test.head()"
      ],
      "execution_count": 47,
      "outputs": [
        {
          "output_type": "execute_result",
          "data": {
            "text/html": [
              "<div>\n",
              "<style scoped>\n",
              "    .dataframe tbody tr th:only-of-type {\n",
              "        vertical-align: middle;\n",
              "    }\n",
              "\n",
              "    .dataframe tbody tr th {\n",
              "        vertical-align: top;\n",
              "    }\n",
              "\n",
              "    .dataframe thead th {\n",
              "        text-align: right;\n",
              "    }\n",
              "</style>\n",
              "<table border=\"1\" class=\"dataframe\">\n",
              "  <thead>\n",
              "    <tr style=\"text-align: right;\">\n",
              "      <th></th>\n",
              "      <th>id</th>\n",
              "      <th>A</th>\n",
              "      <th>B</th>\n",
              "      <th>C</th>\n",
              "      <th>D</th>\n",
              "      <th>E</th>\n",
              "      <th>F</th>\n",
              "      <th>G</th>\n",
              "      <th>H</th>\n",
              "      <th>I</th>\n",
              "      <th>J</th>\n",
              "      <th>K</th>\n",
              "      <th>L</th>\n",
              "      <th>M</th>\n",
              "      <th>N</th>\n",
              "      <th>O</th>\n",
              "    </tr>\n",
              "  </thead>\n",
              "  <tbody>\n",
              "    <tr>\n",
              "      <th>0</th>\n",
              "      <td>553</td>\n",
              "      <td>b</td>\n",
              "      <td>29.17</td>\n",
              "      <td>3.500</td>\n",
              "      <td>u</td>\n",
              "      <td>g</td>\n",
              "      <td>w</td>\n",
              "      <td>v</td>\n",
              "      <td>3.500</td>\n",
              "      <td>t</td>\n",
              "      <td>t</td>\n",
              "      <td>3</td>\n",
              "      <td>t</td>\n",
              "      <td>g</td>\n",
              "      <td>329.0</td>\n",
              "      <td>0</td>\n",
              "    </tr>\n",
              "    <tr>\n",
              "      <th>1</th>\n",
              "      <td>554</td>\n",
              "      <td>b</td>\n",
              "      <td>28.33</td>\n",
              "      <td>5.000</td>\n",
              "      <td>u</td>\n",
              "      <td>g</td>\n",
              "      <td>w</td>\n",
              "      <td>v</td>\n",
              "      <td>11.000</td>\n",
              "      <td>t</td>\n",
              "      <td>f</td>\n",
              "      <td>0</td>\n",
              "      <td>t</td>\n",
              "      <td>g</td>\n",
              "      <td>70.0</td>\n",
              "      <td>0</td>\n",
              "    </tr>\n",
              "    <tr>\n",
              "      <th>2</th>\n",
              "      <td>555</td>\n",
              "      <td>b</td>\n",
              "      <td>29.25</td>\n",
              "      <td>14.790</td>\n",
              "      <td>u</td>\n",
              "      <td>g</td>\n",
              "      <td>aa</td>\n",
              "      <td>v</td>\n",
              "      <td>5.040</td>\n",
              "      <td>t</td>\n",
              "      <td>t</td>\n",
              "      <td>5</td>\n",
              "      <td>t</td>\n",
              "      <td>g</td>\n",
              "      <td>168.0</td>\n",
              "      <td>0</td>\n",
              "    </tr>\n",
              "    <tr>\n",
              "      <th>3</th>\n",
              "      <td>556</td>\n",
              "      <td>a</td>\n",
              "      <td>44.17</td>\n",
              "      <td>6.665</td>\n",
              "      <td>u</td>\n",
              "      <td>g</td>\n",
              "      <td>q</td>\n",
              "      <td>v</td>\n",
              "      <td>7.375</td>\n",
              "      <td>t</td>\n",
              "      <td>t</td>\n",
              "      <td>3</td>\n",
              "      <td>t</td>\n",
              "      <td>g</td>\n",
              "      <td>0.0</td>\n",
              "      <td>0</td>\n",
              "    </tr>\n",
              "    <tr>\n",
              "      <th>4</th>\n",
              "      <td>557</td>\n",
              "      <td>b</td>\n",
              "      <td>18.08</td>\n",
              "      <td>5.500</td>\n",
              "      <td>u</td>\n",
              "      <td>g</td>\n",
              "      <td>k</td>\n",
              "      <td>v</td>\n",
              "      <td>0.500</td>\n",
              "      <td>t</td>\n",
              "      <td>f</td>\n",
              "      <td>0</td>\n",
              "      <td>f</td>\n",
              "      <td>g</td>\n",
              "      <td>80.0</td>\n",
              "      <td>0</td>\n",
              "    </tr>\n",
              "  </tbody>\n",
              "</table>\n",
              "</div>"
            ],
            "text/plain": [
              "    id  A      B       C  D  E   F  G       H  I  J  K  L  M      N  O\n",
              "0  553  b  29.17   3.500  u  g   w  v   3.500  t  t  3  t  g  329.0  0\n",
              "1  554  b  28.33   5.000  u  g   w  v  11.000  t  f  0  t  g   70.0  0\n",
              "2  555  b  29.25  14.790  u  g  aa  v   5.040  t  t  5  t  g  168.0  0\n",
              "3  556  a  44.17   6.665  u  g   q  v   7.375  t  t  3  t  g    0.0  0\n",
              "4  557  b  18.08   5.500  u  g   k  v   0.500  t  f  0  f  g   80.0  0"
            ]
          },
          "metadata": {
            "tags": []
          },
          "execution_count": 47
        }
      ]
    },
    {
      "metadata": {
        "id": "gqSycgHQy6ez",
        "colab_type": "code",
        "colab": {
          "autoexec": {
            "startup": false,
            "wait_interval": 0
          },
          "base_uri": "https://localhost:8080/",
          "height": 1445
        },
        "outputId": "f57217c2-2549-4fce-e7b5-69a3a3a74ff5",
        "executionInfo": {
          "status": "ok",
          "timestamp": 1526752609567,
          "user_tz": -330,
          "elapsed": 1779,
          "user": {
            "displayName": "anmol dua",
            "photoUrl": "//lh5.googleusercontent.com/-HF-joOMdcg4/AAAAAAAAAAI/AAAAAAAAAlg/kbdvpsLISZY/s50-c-k-no/photo.jpg",
            "userId": "112678859369174631221"
          }
        }
      },
      "cell_type": "code",
      "source": [
        "m1 = MachineLearning(test)\n",
        "m1.FillNA('A' , 'b')\n",
        "m1.FillNA('D' , 'u')\n",
        "m1.FillNA('E' , 'g')\n",
        "m1.FillNA('F' , 'c')\n",
        "m1.FillNA('G' , 'v')\n",
        "dataset1 = m1.getDataSet()\n",
        "X = dataset1.iloc[:, 1:16].values\n",
        "X[:,0] = m1.LabelEncoder(X[:,0])\n",
        "X[:,3] = m1.LabelEncoder(X[:,3])\n",
        "X[:,4] = m1.LabelEncoder(X[:,4])\n",
        "X[:,5] = m1.LabelEncoder(X[:,5])\n",
        "X[:,6] = m1.LabelEncoder(X[:,6])\n",
        "X[:,8] = m1.LabelEncoder(X[:,8])\n",
        "X[:,9] = m1.LabelEncoder(X[:,9])\n",
        "X[:,11] = m1.LabelEncoder(X[:,11])\n",
        "X[:,12] = m1.LabelEncoder(X[:,12])\n",
        "X = m.FillNAImputer('mean' , X)\n",
        "X"
      ],
      "execution_count": 48,
      "outputs": [
        {
          "output_type": "stream",
          "text": [
            "Functions : \n",
            "----------------------------------------------------\n",
            "For taking the updated dataset        : getDataSet()\n",
            "----------------------------------------------------\n",
            "For Checking Null Percentage          : checkCounts()\n",
            "----------------------------------------------------\n",
            "For checking Null Values              : checkNull()\n",
            "----------------------------------------------------\n",
            "For Getting Out Unique Values         : uniqueValues(column)\n",
            "----------------------------------------------------\n",
            "For drawing bargraph distribution     : drawDistribution(column)\n",
            "----------------------------------------------------\n",
            "Label Encoding                        : LabelEncoder(X)\n",
            "----------------------------------------------------\n",
            "Filling Null Values without Imputer   : FillNA(cols , filling_data)\n",
            "----------------------------------------------------\n",
            "Filling Null Values with Imputer      : FillNAImputer(strategy , X)\n",
            "----------------------------------------------------\n",
            "Train and Test Splitting              : traintestSplit(X , y)\n",
            "----------------------------------------------------\n",
            "XGBoost                               : XGBoost(X_train , y_train)\n",
            "----------------------------------------------------\n",
            "SVM                                   : SVM(X_train , y_train)\n",
            "----------------------------------------------------\n",
            "GaussianNB                            : GaussianNB(X_train,y_train)\n",
            "----------------------------------------------------\n",
            "CheckAccuracy                         : CheckAccuracy(X_test , y_test)\n",
            "----------------------------------------------------\n",
            "ConfusianMatrix                       : ConfusianMatrix(y_test , y_pred)\n",
            "Done !!\n",
            "Done !!\n",
            "Done !!\n",
            "Done !!\n",
            "Done !!\n",
            "Label Encoding Starts :\n",
            "Classes : \n",
            "['a' 'b']\n",
            "---------------------------------------------\n",
            "Label Encoding Starts :\n",
            "Classes : \n",
            "['u' 'y']\n",
            "---------------------------------------------\n",
            "Label Encoding Starts :\n",
            "Classes : \n",
            "['g' 'p']\n",
            "---------------------------------------------\n",
            "Label Encoding Starts :\n",
            "Classes : \n",
            "['aa' 'c' 'cc' 'd' 'e' 'ff' 'i' 'j' 'k' 'm' 'q' 'r' 'w' 'x']\n",
            "---------------------------------------------\n",
            "Label Encoding Starts :\n",
            "Classes : \n",
            "['bb' 'dd' 'ff' 'h' 'j' 'n' 'v' 'z']\n",
            "---------------------------------------------\n",
            "Label Encoding Starts :\n",
            "Classes : \n",
            "['f' 't']\n",
            "---------------------------------------------\n",
            "Label Encoding Starts :\n",
            "Classes : \n",
            "['f' 't']\n",
            "---------------------------------------------\n",
            "Label Encoding Starts :\n",
            "Classes : \n",
            "['f' 't']\n",
            "---------------------------------------------\n",
            "Label Encoding Starts :\n",
            "Classes : \n",
            "['g' 'p' 's']\n",
            "---------------------------------------------\n",
            "Done !\n"
          ],
          "name": "stdout"
        },
        {
          "output_type": "execute_result",
          "data": {
            "text/plain": [
              "array([[1.0000e+00, 2.9170e+01, 3.5000e+00, ..., 0.0000e+00, 3.2900e+02,\n",
              "        0.0000e+00],\n",
              "       [1.0000e+00, 2.8330e+01, 5.0000e+00, ..., 0.0000e+00, 7.0000e+01,\n",
              "        0.0000e+00],\n",
              "       [1.0000e+00, 2.9250e+01, 1.4790e+01, ..., 0.0000e+00, 1.6800e+02,\n",
              "        0.0000e+00],\n",
              "       ...,\n",
              "       [1.0000e+00, 3.9250e+01, 9.5000e+00, ..., 0.0000e+00, 2.4000e+02,\n",
              "        4.6070e+03],\n",
              "       [1.0000e+00, 4.1920e+01, 4.2000e-01, ..., 0.0000e+00, 2.2000e+02,\n",
              "        9.4800e+02],\n",
              "       [0.0000e+00, 2.0500e+01, 1.1835e+01, ..., 0.0000e+00, 3.4000e+02,\n",
              "        0.0000e+00]])"
            ]
          },
          "metadata": {
            "tags": []
          },
          "execution_count": 48
        }
      ]
    },
    {
      "metadata": {
        "id": "-tISgfUm0BWm",
        "colab_type": "code",
        "colab": {
          "autoexec": {
            "startup": false,
            "wait_interval": 0
          },
          "base_uri": "https://localhost:8080/",
          "height": 76
        },
        "outputId": "fe4f0b7b-4b02-4ee2-971f-7c03f7ca3d1d",
        "executionInfo": {
          "status": "ok",
          "timestamp": 1526752612818,
          "user_tz": -330,
          "elapsed": 1297,
          "user": {
            "displayName": "anmol dua",
            "photoUrl": "//lh5.googleusercontent.com/-HF-joOMdcg4/AAAAAAAAAAI/AAAAAAAAAlg/kbdvpsLISZY/s50-c-k-no/photo.jpg",
            "userId": "112678859369174631221"
          }
        }
      },
      "cell_type": "code",
      "source": [
        "y_test_xg = classifier_xg.predict(X)\n",
        "y_test_svm = classifier_svm.predict(X)"
      ],
      "execution_count": 49,
      "outputs": [
        {
          "output_type": "stream",
          "text": [
            "/usr/local/lib/python2.7/dist-packages/sklearn/preprocessing/label.py:151: DeprecationWarning: The truth value of an empty array is ambiguous. Returning False, but in future this will result in an error. Use `array.size > 0` to check that an array is not empty.\n",
            "  if diff:\n"
          ],
          "name": "stderr"
        }
      ]
    },
    {
      "metadata": {
        "id": "kYdvnIPG04gw",
        "colab_type": "code",
        "colab": {
          "autoexec": {
            "startup": false,
            "wait_interval": 0
          }
        }
      },
      "cell_type": "code",
      "source": [
        "y_test = (y_test_xg + y_test_svm)/2.0"
      ],
      "execution_count": 0,
      "outputs": []
    },
    {
      "metadata": {
        "id": "I1HJeyHb061l",
        "colab_type": "code",
        "colab": {
          "autoexec": {
            "startup": false,
            "wait_interval": 0
          }
        }
      },
      "cell_type": "code",
      "source": [
        "y_test = [1 if i>=0.5 else 0 for i in y_test]"
      ],
      "execution_count": 0,
      "outputs": []
    },
    {
      "metadata": {
        "id": "JyhGgI2q1ZtO",
        "colab_type": "code",
        "colab": {
          "autoexec": {
            "startup": false,
            "wait_interval": 0
          }
        }
      },
      "cell_type": "code",
      "source": [
        "df = pd.DataFrame()\n",
        "df['id'] = test['id']\n",
        "df['P'] = y_test"
      ],
      "execution_count": 0,
      "outputs": []
    },
    {
      "metadata": {
        "id": "WqtXXo7v1nOa",
        "colab_type": "code",
        "colab": {
          "autoexec": {
            "startup": false,
            "wait_interval": 0
          },
          "base_uri": "https://localhost:8080/",
          "height": 204
        },
        "outputId": "d8010bd4-3c72-4217-ccb2-e4bde7127a4d",
        "executionInfo": {
          "status": "ok",
          "timestamp": 1526752624064,
          "user_tz": -330,
          "elapsed": 2409,
          "user": {
            "displayName": "anmol dua",
            "photoUrl": "//lh5.googleusercontent.com/-HF-joOMdcg4/AAAAAAAAAAI/AAAAAAAAAlg/kbdvpsLISZY/s50-c-k-no/photo.jpg",
            "userId": "112678859369174631221"
          }
        }
      },
      "cell_type": "code",
      "source": [
        "df.head()"
      ],
      "execution_count": 53,
      "outputs": [
        {
          "output_type": "execute_result",
          "data": {
            "text/html": [
              "<div>\n",
              "<style scoped>\n",
              "    .dataframe tbody tr th:only-of-type {\n",
              "        vertical-align: middle;\n",
              "    }\n",
              "\n",
              "    .dataframe tbody tr th {\n",
              "        vertical-align: top;\n",
              "    }\n",
              "\n",
              "    .dataframe thead th {\n",
              "        text-align: right;\n",
              "    }\n",
              "</style>\n",
              "<table border=\"1\" class=\"dataframe\">\n",
              "  <thead>\n",
              "    <tr style=\"text-align: right;\">\n",
              "      <th></th>\n",
              "      <th>id</th>\n",
              "      <th>P</th>\n",
              "    </tr>\n",
              "  </thead>\n",
              "  <tbody>\n",
              "    <tr>\n",
              "      <th>0</th>\n",
              "      <td>553</td>\n",
              "      <td>0</td>\n",
              "    </tr>\n",
              "    <tr>\n",
              "      <th>1</th>\n",
              "      <td>554</td>\n",
              "      <td>0</td>\n",
              "    </tr>\n",
              "    <tr>\n",
              "      <th>2</th>\n",
              "      <td>555</td>\n",
              "      <td>0</td>\n",
              "    </tr>\n",
              "    <tr>\n",
              "      <th>3</th>\n",
              "      <td>556</td>\n",
              "      <td>0</td>\n",
              "    </tr>\n",
              "    <tr>\n",
              "      <th>4</th>\n",
              "      <td>557</td>\n",
              "      <td>0</td>\n",
              "    </tr>\n",
              "  </tbody>\n",
              "</table>\n",
              "</div>"
            ],
            "text/plain": [
              "    id  P\n",
              "0  553  0\n",
              "1  554  0\n",
              "2  555  0\n",
              "3  556  0\n",
              "4  557  0"
            ]
          },
          "metadata": {
            "tags": []
          },
          "execution_count": 53
        }
      ]
    },
    {
      "metadata": {
        "id": "O7CR7WJx2P4l",
        "colab_type": "code",
        "colab": {
          "autoexec": {
            "startup": false,
            "wait_interval": 0
          }
        }
      },
      "cell_type": "code",
      "source": [
        "df.to_csv('SubmissionFile1.csv' , index = False)"
      ],
      "execution_count": 0,
      "outputs": []
    },
    {
      "metadata": {
        "id": "Zy__zkpE2nrl",
        "colab_type": "code",
        "colab": {
          "autoexec": {
            "startup": false,
            "wait_interval": 0
          }
        }
      },
      "cell_type": "code",
      "source": [
        "helper.downloadFile('./SubmissionFile1.csv')"
      ],
      "execution_count": 0,
      "outputs": []
    },
    {
      "metadata": {
        "id": "q9Eq7H0fjGJq",
        "colab_type": "text"
      },
      "cell_type": "markdown",
      "source": [
        "# End"
      ]
    }
  ]
}